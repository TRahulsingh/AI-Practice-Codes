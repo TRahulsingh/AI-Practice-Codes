{
 "cells": [
  {
   "cell_type": "markdown",
   "id": "2b0606f9",
   "metadata": {
    "colab_type": "text",
    "id": "view-in-github"
   },
   "source": [
    "<a href=\"https://colab.research.google.com/github/mssanamateen/Artificial-Intelligence-Lab/blob/main/nlpspacy.ipynb\" target=\"_parent\"><img src=\"https://colab.research.google.com/assets/colab-badge.svg\" alt=\"Open In Colab\"/></a>"
   ]
  },
  {
   "cell_type": "code",
   "execution_count": null,
   "id": "f2326519-cfcf-48fa-8064-9bfd70b183e8",
   "metadata": {
    "id": "f2326519-cfcf-48fa-8064-9bfd70b183e8",
    "outputId": "9d547f0c-399f-4ce6-daa5-0dac4903d244"
   },
   "outputs": [
    {
     "ename": "ModuleNotFoundError",
     "evalue": "No module named 'spacy'",
     "output_type": "error",
     "traceback": [
      "\u001b[1;31m---------------------------------------------------------------------------\u001b[0m",
      "\u001b[1;31mModuleNotFoundError\u001b[0m                       Traceback (most recent call last)",
      "Cell \u001b[1;32mIn[1], line 1\u001b[0m\n\u001b[1;32m----> 1\u001b[0m \u001b[38;5;28;01mimport\u001b[39;00m \u001b[38;5;21;01mspacy\u001b[39;00m\n",
      "\u001b[1;31mModuleNotFoundError\u001b[0m: No module named 'spacy'"
     ]
    }
   ],
   "source": [
    "import spacy"
   ]
  },
  {
   "cell_type": "code",
   "execution_count": null,
   "id": "14022fb8-b2f3-47b2-b914-1090c20ebb1d",
   "metadata": {
    "id": "14022fb8-b2f3-47b2-b914-1090c20ebb1d",
    "outputId": "3cfa89bf-1dec-4501-9563-94bee0816bf4"
   },
   "outputs": [
    {
     "name": "stdout",
     "output_type": "stream",
     "text": [
      "Collecting spacy\n",
      "  Using cached spacy-3.8.2-cp311-cp311-win_amd64.whl.metadata (27 kB)\n",
      "Collecting spacy-legacy<3.1.0,>=3.0.11 (from spacy)\n",
      "  Using cached spacy_legacy-3.0.12-py2.py3-none-any.whl.metadata (2.8 kB)\n",
      "Requirement already satisfied: spacy-loggers<2.0.0,>=1.0.0 in c:\\users\\hp\\anaconda3\\lib\\site-packages (from spacy) (1.0.5)\n",
      "Requirement already satisfied: murmurhash<1.1.0,>=0.28.0 in c:\\users\\hp\\anaconda3\\lib\\site-packages (from spacy) (1.0.10)\n",
      "Requirement already satisfied: cymem<2.1.0,>=2.0.2 in c:\\users\\hp\\anaconda3\\lib\\site-packages (from spacy) (2.0.8)\n",
      "Requirement already satisfied: preshed<3.1.0,>=3.0.2 in c:\\users\\hp\\anaconda3\\lib\\site-packages (from spacy) (3.0.9)\n",
      "Requirement already satisfied: thinc<8.4.0,>=8.3.0 in c:\\users\\hp\\anaconda3\\lib\\site-packages (from spacy) (8.3.2)\n",
      "Requirement already satisfied: wasabi<1.2.0,>=0.9.1 in c:\\users\\hp\\anaconda3\\lib\\site-packages (from spacy) (1.1.3)\n",
      "Requirement already satisfied: srsly<3.0.0,>=2.4.3 in c:\\users\\hp\\anaconda3\\lib\\site-packages (from spacy) (2.4.8)\n",
      "Requirement already satisfied: catalogue<2.1.0,>=2.0.6 in c:\\users\\hp\\anaconda3\\lib\\site-packages (from spacy) (2.0.10)\n",
      "Requirement already satisfied: weasel<0.5.0,>=0.1.0 in c:\\users\\hp\\anaconda3\\lib\\site-packages (from spacy) (0.4.1)\n",
      "Requirement already satisfied: typer<1.0.0,>=0.3.0 in c:\\users\\hp\\anaconda3\\lib\\site-packages (from spacy) (0.13.0)\n",
      "Requirement already satisfied: tqdm<5.0.0,>=4.38.0 in c:\\users\\hp\\anaconda3\\lib\\site-packages (from spacy) (4.65.0)\n",
      "Requirement already satisfied: requests<3.0.0,>=2.13.0 in c:\\users\\hp\\anaconda3\\lib\\site-packages (from spacy) (2.31.0)\n",
      "Requirement already satisfied: pydantic!=1.8,!=1.8.1,<3.0.0,>=1.7.4 in c:\\users\\hp\\anaconda3\\lib\\site-packages (from spacy) (2.8.2)\n",
      "Requirement already satisfied: jinja2 in c:\\users\\hp\\anaconda3\\lib\\site-packages (from spacy) (3.1.3)\n",
      "Requirement already satisfied: setuptools in c:\\users\\hp\\anaconda3\\lib\\site-packages (from spacy) (68.2.2)\n",
      "Requirement already satisfied: packaging>=20.0 in c:\\users\\hp\\anaconda3\\lib\\site-packages (from spacy) (23.1)\n",
      "Requirement already satisfied: langcodes<4.0.0,>=3.2.0 in c:\\users\\hp\\anaconda3\\lib\\site-packages (from spacy) (3.4.1)\n",
      "Requirement already satisfied: numpy>=1.19.0 in c:\\users\\hp\\anaconda3\\lib\\site-packages (from spacy) (1.24.3)\n",
      "Requirement already satisfied: language-data>=1.2 in c:\\users\\hp\\anaconda3\\lib\\site-packages (from langcodes<4.0.0,>=3.2.0->spacy) (1.2.0)\n",
      "Requirement already satisfied: annotated-types>=0.4.0 in c:\\users\\hp\\anaconda3\\lib\\site-packages (from pydantic!=1.8,!=1.8.1,<3.0.0,>=1.7.4->spacy) (0.6.0)\n",
      "Requirement already satisfied: pydantic-core==2.20.1 in c:\\users\\hp\\anaconda3\\lib\\site-packages (from pydantic!=1.8,!=1.8.1,<3.0.0,>=1.7.4->spacy) (2.20.1)\n",
      "Requirement already satisfied: typing-extensions>=4.6.1 in c:\\users\\hp\\anaconda3\\lib\\site-packages (from pydantic!=1.8,!=1.8.1,<3.0.0,>=1.7.4->spacy) (4.9.0)\n",
      "Requirement already satisfied: charset-normalizer<4,>=2 in c:\\users\\hp\\anaconda3\\lib\\site-packages (from requests<3.0.0,>=2.13.0->spacy) (2.0.4)\n",
      "Requirement already satisfied: idna<4,>=2.5 in c:\\users\\hp\\anaconda3\\lib\\site-packages (from requests<3.0.0,>=2.13.0->spacy) (3.4)\n",
      "Requirement already satisfied: urllib3<3,>=1.21.1 in c:\\users\\hp\\anaconda3\\lib\\site-packages (from requests<3.0.0,>=2.13.0->spacy) (1.26.18)\n",
      "Requirement already satisfied: certifi>=2017.4.17 in c:\\users\\hp\\anaconda3\\lib\\site-packages (from requests<3.0.0,>=2.13.0->spacy) (2024.8.30)\n",
      "Requirement already satisfied: blis<1.1.0,>=1.0.0 in c:\\users\\hp\\anaconda3\\lib\\site-packages (from thinc<8.4.0,>=8.3.0->spacy) (1.0.1)\n",
      "Requirement already satisfied: confection<1.0.0,>=0.0.1 in c:\\users\\hp\\anaconda3\\lib\\site-packages (from thinc<8.4.0,>=8.3.0->spacy) (0.1.5)\n",
      "Collecting numpy>=1.19.0 (from spacy)\n",
      "  Using cached numpy-2.0.2-cp311-cp311-win_amd64.whl.metadata (59 kB)\n",
      "Requirement already satisfied: colorama in c:\\users\\hp\\anaconda3\\lib\\site-packages (from tqdm<5.0.0,>=4.38.0->spacy) (0.4.6)\n",
      "Requirement already satisfied: click>=8.0.0 in c:\\users\\hp\\anaconda3\\lib\\site-packages (from typer<1.0.0,>=0.3.0->spacy) (8.1.7)\n",
      "Requirement already satisfied: shellingham>=1.3.0 in c:\\users\\hp\\anaconda3\\lib\\site-packages (from typer<1.0.0,>=0.3.0->spacy) (1.5.0)\n",
      "Requirement already satisfied: rich>=10.11.0 in c:\\users\\hp\\anaconda3\\lib\\site-packages (from typer<1.0.0,>=0.3.0->spacy) (13.3.5)\n",
      "Requirement already satisfied: cloudpathlib<1.0.0,>=0.7.0 in c:\\users\\hp\\anaconda3\\lib\\site-packages (from weasel<0.5.0,>=0.1.0->spacy) (0.20.0)\n",
      "Requirement already satisfied: smart-open<8.0.0,>=5.2.1 in c:\\users\\hp\\anaconda3\\lib\\site-packages (from weasel<0.5.0,>=0.1.0->spacy) (5.2.1)\n",
      "Requirement already satisfied: MarkupSafe>=2.0 in c:\\users\\hp\\anaconda3\\lib\\site-packages (from jinja2->spacy) (2.1.3)\n",
      "Requirement already satisfied: marisa-trie>=0.7.7 in c:\\users\\hp\\anaconda3\\lib\\site-packages (from language-data>=1.2->langcodes<4.0.0,>=3.2.0->spacy) (1.2.1)\n",
      "Requirement already satisfied: markdown-it-py<3.0.0,>=2.2.0 in c:\\users\\hp\\anaconda3\\lib\\site-packages (from rich>=10.11.0->typer<1.0.0,>=0.3.0->spacy) (2.2.0)\n",
      "Requirement already satisfied: pygments<3.0.0,>=2.13.0 in c:\\users\\hp\\anaconda3\\lib\\site-packages (from rich>=10.11.0->typer<1.0.0,>=0.3.0->spacy) (2.15.1)\n",
      "Requirement already satisfied: mdurl~=0.1 in c:\\users\\hp\\anaconda3\\lib\\site-packages (from markdown-it-py<3.0.0,>=2.2.0->rich>=10.11.0->typer<1.0.0,>=0.3.0->spacy) (0.1.0)\n",
      "Using cached spacy-3.8.2-cp311-cp311-win_amd64.whl (12.2 MB)\n",
      "Using cached spacy_legacy-3.0.12-py2.py3-none-any.whl (29 kB)\n",
      "Using cached numpy-2.0.2-cp311-cp311-win_amd64.whl (15.9 MB)\n",
      "Installing collected packages: spacy-legacy, numpy, spacy\n",
      "  Attempting uninstall: numpy\n",
      "    Found existing installation: numpy 1.24.3\n",
      "    Uninstalling numpy-1.24.3:\n",
      "      Successfully uninstalled numpy-1.24.3\n",
      "Successfully installed numpy-2.0.2 spacy-3.8.2 spacy-legacy-3.0.12\n",
      "Note: you may need to restart the kernel to use updated packages.\n"
     ]
    },
    {
     "name": "stderr",
     "output_type": "stream",
     "text": [
      "  WARNING: Failed to remove contents in a temporary directory 'C:\\Users\\HP\\anaconda3\\Lib\\site-packages\\numpy\\~libs'.\n",
      "  You can safely remove it manually.\n",
      "  WARNING: Failed to remove contents in a temporary directory 'C:\\Users\\HP\\AppData\\Local\\Temp\\pip-uninstall-0o2bzog_'.\n",
      "  You can safely remove it manually.\n",
      "ERROR: pip's dependency resolver does not currently take into account all the packages that are installed. This behaviour is the source of the following dependency conflicts.\n",
      "gensim 4.3.0 requires FuzzyTM>=0.4.0, which is not installed.\n",
      "astropy 5.3.4 requires numpy<2,>=1.21, but you have numpy 2.0.2 which is incompatible.\n",
      "contourpy 1.2.0 requires numpy<2.0,>=1.20, but you have numpy 2.0.2 which is incompatible.\n",
      "matplotlib 3.8.0 requires numpy<2,>=1.21, but you have numpy 2.0.2 which is incompatible.\n",
      "numba 0.59.0 requires numpy<1.27,>=1.22, but you have numpy 2.0.2 which is incompatible.\n",
      "pandas 2.1.4 requires numpy<2,>=1.23.2; python_version == \"3.11\", but you have numpy 2.0.2 which is incompatible.\n",
      "pywavelets 1.5.0 requires numpy<2.0,>=1.22.4, but you have numpy 2.0.2 which is incompatible.\n",
      "streamlit 1.30.0 requires numpy<2,>=1.19.3, but you have numpy 2.0.2 which is incompatible.\n",
      "tensorflow-intel 2.16.1 requires numpy<2.0.0,>=1.23.5; python_version <= \"3.11\", but you have numpy 2.0.2 which is incompatible.\n"
     ]
    }
   ],
   "source": [
    "pip install spacy"
   ]
  },
  {
   "cell_type": "code",
   "execution_count": null,
   "id": "cb445d63-8db4-49a6-a770-91748d25eab3",
   "metadata": {
    "id": "cb445d63-8db4-49a6-a770-91748d25eab3",
    "outputId": "2332270c-83f2-4483-b516-5ab1754a9c84"
   },
   "outputs": [
    {
     "name": "stdout",
     "output_type": "stream",
     "text": [
      "Collecting en-core-web-sm==3.8.0\n",
      "  Downloading https://github.com/explosion/spacy-models/releases/download/en_core_web_sm-3.8.0/en_core_web_sm-3.8.0-py3-none-any.whl (12.8 MB)\n",
      "     ---------------------------------------- 0.0/12.8 MB ? eta -:--:--\n",
      "     --------------------------------------- 0.0/12.8 MB 640.0 kB/s eta 0:00:20\n",
      "      --------------------------------------- 0.2/12.8 MB 2.9 MB/s eta 0:00:05\n",
      "     -- ------------------------------------- 0.8/12.8 MB 6.2 MB/s eta 0:00:02\n",
      "     ---- ----------------------------------- 1.4/12.8 MB 7.8 MB/s eta 0:00:02\n",
      "     ----- ---------------------------------- 1.9/12.8 MB 8.4 MB/s eta 0:00:02\n",
      "     ------- -------------------------------- 2.4/12.8 MB 9.1 MB/s eta 0:00:02\n",
      "     --------- ------------------------------ 2.9/12.8 MB 9.3 MB/s eta 0:00:02\n",
      "     ---------- ----------------------------- 3.5/12.8 MB 9.7 MB/s eta 0:00:01\n",
      "     ------------ --------------------------- 4.1/12.8 MB 9.9 MB/s eta 0:00:01\n",
      "     -------------- ------------------------- 4.6/12.8 MB 10.1 MB/s eta 0:00:01\n",
      "     ---------------- ----------------------- 5.2/12.8 MB 10.3 MB/s eta 0:00:01\n",
      "     ----------------- ---------------------- 5.7/12.8 MB 10.4 MB/s eta 0:00:01\n",
      "     ------------------- -------------------- 6.2/12.8 MB 10.5 MB/s eta 0:00:01\n",
      "     --------------------- ------------------ 6.8/12.8 MB 10.6 MB/s eta 0:00:01\n",
      "     ----------------------- ---------------- 7.4/12.8 MB 10.7 MB/s eta 0:00:01\n",
      "     ------------------------ --------------- 7.9/12.8 MB 10.8 MB/s eta 0:00:01\n",
      "     -------------------------- ------------- 8.5/12.8 MB 10.8 MB/s eta 0:00:01\n",
      "     --------------------------- ------------ 8.9/12.8 MB 10.7 MB/s eta 0:00:01\n",
      "     ----------------------------- ---------- 9.5/12.8 MB 10.8 MB/s eta 0:00:01\n",
      "     ------------------------------ -------- 10.0/12.8 MB 10.9 MB/s eta 0:00:01\n",
      "     -------------------------------- ------ 10.6/12.8 MB 11.5 MB/s eta 0:00:01\n",
      "     --------------------------------- ----- 11.1/12.8 MB 11.7 MB/s eta 0:00:01\n",
      "     ----------------------------------- --- 11.7/12.8 MB 11.7 MB/s eta 0:00:01\n",
      "     ------------------------------------- - 12.2/12.8 MB 11.7 MB/s eta 0:00:01\n",
      "     --------------------------------------  12.8/12.8 MB 11.7 MB/s eta 0:00:01\n",
      "     --------------------------------------- 12.8/12.8 MB 11.3 MB/s eta 0:00:00\n",
      "\u001b[38;5;2m[+] Download and installation successful\u001b[0m\n",
      "You can now load the package via spacy.load('en_core_web_sm')\n"
     ]
    }
   ],
   "source": [
    "!python -m spacy download en_core_web_sm"
   ]
  },
  {
   "cell_type": "code",
   "execution_count": 2,
   "id": "bb71828b-b913-4915-a9dd-0db0ecf1a7f3",
   "metadata": {
    "colab": {
     "base_uri": "https://localhost:8080/"
    },
    "id": "bb71828b-b913-4915-a9dd-0db0ecf1a7f3",
    "outputId": "509491fb-b21d-430a-c17d-37a5dedb563a"
   },
   "outputs": [
    {
     "name": "stdout",
     "output_type": "stream",
     "text": [
      "sentences:\n",
      "Robin loves playing football.\n",
      "He often plays in the park with his friends.\n",
      "Football keeps him fit and healthy.\n",
      "tokens:\n",
      "Robin\n",
      "loves\n",
      "playing\n",
      "football\n",
      ".\n",
      "He\n",
      "often\n",
      "plays\n",
      "in\n",
      "the\n",
      "park\n",
      "with\n",
      "his\n",
      "friends\n",
      ".\n",
      "Football\n",
      "keeps\n",
      "him\n",
      "fit\n",
      "and\n",
      "healthy\n",
      ".\n",
      "stems:\n",
      "Robin->robin\n",
      "loves->love\n",
      "playing->play\n",
      "football->footbal\n",
      ".->.\n",
      "plays->play\n",
      "park->park\n",
      "friends->friend\n",
      ".->.\n",
      "Football->footbal\n",
      "keeps->keep\n",
      "fit->fit\n",
      "healthy->healthi\n",
      ".->.\n",
      "Robin->Robin\n",
      "loves->love\n",
      "playing->play\n",
      "football->football\n",
      ".->.\n",
      "plays->play\n",
      "park->park\n",
      "friends->friend\n",
      ".->.\n",
      "Football->football\n",
      "keeps->keep\n",
      "fit->fit\n",
      "healthy->healthy\n",
      ".->.\n",
      "Robin PROPN\n",
      "loves VERB\n",
      "playing VERB\n",
      "football NOUN\n",
      ". PUNCT\n",
      "plays VERB\n",
      "park NOUN\n",
      "friends NOUN\n",
      ". PUNCT\n",
      "Football NOUN\n",
      "keeps VERB\n",
      "fit ADJ\n",
      "healthy ADJ\n",
      ". PUNCT\n"
     ]
    }
   ],
   "source": [
    "import spacy\n",
    "from nltk.stem import PorterStemmer\n",
    "#load spacy model\n",
    "nlp=spacy.load(\"en_core_web_sm\")\n",
    "text=\"Robin loves playing football. He often plays in the park with his friends. Football keeps him fit and healthy.\"\n",
    "\n",
    "#process the text\n",
    "\n",
    "doc=nlp(text)\n",
    "\n",
    "#sentence segmentation\n",
    "print(\"sentences:\")\n",
    "for sent in doc.sents:\n",
    "    print(sent.text)\n",
    "    \n",
    "#tokenization\n",
    "print(\"tokens:\")\n",
    "for token in doc:\n",
    "    print(token.text)\n",
    "filt_tokens=[token for token in doc if not token.is_stop]\n",
    "\n",
    "#stemming\n",
    "stemmer=PorterStemmer()\n",
    "print(\"stems:\")\n",
    "for token in filt_tokens:\n",
    "    print(f\"{token.text}->{stemmer.stem(token.text)}\")\n",
    "    \n",
    "#lemmatization\n",
    "for token in filt_tokens:\n",
    "    print(f\"{token.text}->{ token.lemma_}\")\n",
    "    \n",
    "#pos tag\n",
    "for token in filt_tokens:\n",
    "    print(token.text, token.pos_)"
   ]
  },
  {
   "cell_type": "code",
   "execution_count": 3,
   "id": "975f0523-59f6-49df-9ef8-3558b3b21a6d",
   "metadata": {
    "colab": {
     "base_uri": "https://localhost:8080/"
    },
    "id": "975f0523-59f6-49df-9ef8-3558b3b21a6d",
    "outputId": "47da51b4-48fb-4a02-b323-e882dc674161"
   },
   "outputs": [
    {
     "name": "stdout",
     "output_type": "stream",
     "text": [
      "Robin PERSON\n"
     ]
    }
   ],
   "source": [
    "#named entity\n",
    "for ent in doc.ents:\n",
    "    print(ent.text, ent.label_)"
   ]
  },
  {
   "cell_type": "code",
   "execution_count": null,
   "id": "e5665e9e-5332-43c1-b6da-26f2890c2714",
   "metadata": {
    "id": "e5665e9e-5332-43c1-b6da-26f2890c2714",
    "outputId": "dac4d172-9ff6-4c32-dcfb-306a3b1e8401"
   },
   "outputs": [
    {
     "name": "stdout",
     "output_type": "stream",
     "text": [
      "Requirement already satisfied: blis in c:\\users\\hp\\anaconda3\\lib\\site-packages (1.0.1)\n",
      "Requirement already satisfied: numpy<3.0.0,>=2.0.0 in c:\\users\\hp\\anaconda3\\lib\\site-packages (from blis) (2.0.2)\n",
      "Note: you may need to restart the kernel to use updated packages.\n"
     ]
    }
   ],
   "source": [
    "pip install blis"
   ]
  },
  {
   "cell_type": "code",
   "execution_count": null,
   "id": "190f7b34-6fcc-418e-9b0d-3010ffa7f84d",
   "metadata": {
    "id": "190f7b34-6fcc-418e-9b0d-3010ffa7f84d"
   },
   "outputs": [],
   "source": []
  }
 ],
 "metadata": {
  "colab": {
   "include_colab_link": true,
   "provenance": []
  },
  "kernelspec": {
   "display_name": "Python 3 (ipykernel)",
   "language": "python",
   "name": "python3"
  },
  "language_info": {
   "codemirror_mode": {
    "name": "ipython",
    "version": 3
   },
   "file_extension": ".py",
   "mimetype": "text/x-python",
   "name": "python",
   "nbconvert_exporter": "python",
   "pygments_lexer": "ipython3",
   "version": "3.11.7"
  }
 },
 "nbformat": 4,
 "nbformat_minor": 5
}
