{
 "cells": [
  {
   "cell_type": "code",
   "execution_count": 21,
   "metadata": {
    "colab": {
     "base_uri": "https://localhost:8080/"
    },
    "id": "AYCeMR1pifkl",
    "outputId": "07d96970-ddcd-4b76-ca8d-37a9cc44e096"
   },
   "outputs": [
    {
     "name": "stderr",
     "output_type": "stream",
     "text": [
      "[nltk_data] Downloading package wordnet to\n",
      "[nltk_data]     C:\\Users\\HP\\AppData\\Roaming\\nltk_data...\n",
      "[nltk_data]   Package wordnet is already up-to-date!\n",
      "[nltk_data] Downloading package stopwords to\n",
      "[nltk_data]     C:\\Users\\HP\\AppData\\Roaming\\nltk_data...\n",
      "[nltk_data]   Package stopwords is already up-to-date!\n",
      "[nltk_data] Downloading package omw-1.4 to\n",
      "[nltk_data]     C:\\Users\\HP\\AppData\\Roaming\\nltk_data...\n",
      "[nltk_data]   Package omw-1.4 is already up-to-date!\n",
      "[nltk_data] Downloading package punkt to\n",
      "[nltk_data]     C:\\Users\\HP\\AppData\\Roaming\\nltk_data...\n",
      "[nltk_data]   Package punkt is already up-to-date!\n"
     ]
    }
   ],
   "source": [
    "import nltk\n",
    "nltk.download('wordnet')\n",
    "nltk.download('stopwords')\n",
    "nltk.download('omw-1.4')\n",
    "nltk.download('punkt')\n",
    "\n",
    "text=\"\"\"Hello Mr. Smith, how are you doing today? The weather is great, and city is awesome. The sky is pinkish-blue. You shouldn\\'t eat cardboard\"\"\"\n"
   ]
  },
  {
   "cell_type": "code",
   "execution_count": 3,
   "metadata": {
    "colab": {
     "base_uri": "https://localhost:8080/"
    },
    "id": "7niUyQ9s_PhE",
    "outputId": "91041901-222d-4a66-8e28-4be94f563dee"
   },
   "outputs": [
    {
     "name": "stdout",
     "output_type": "stream",
     "text": [
      "['Hello Mr. Smith, how are you doing today?', 'The weather is great, and city is awesome.', 'The sky is pinkish-blue.', \"You shouldn't eat cardboard\"]\n"
     ]
    }
   ],
   "source": [
    "sent=nltk.sent_tokenize(text)\n",
    "print(sent)"
   ]
  },
  {
   "cell_type": "code",
   "execution_count": 5,
   "metadata": {
    "colab": {
     "base_uri": "https://localhost:8080/",
     "height": 53
    },
    "id": "YAcysU4fi0Ei",
    "outputId": "d5e979fc-f0b1-4b9c-a634-e5d03a547a38"
   },
   "outputs": [
    {
     "name": "stdout",
     "output_type": "stream",
     "text": [
      "hello mr. smith, how are you doing today? the weather is great, and city is awesome. the sky is pinkish-blue. you shouldn't eat cardboard\n"
     ]
    },
    {
     "data": {
      "text/plain": [
       "\"hello mr  smith  how are you doing today  the weather is great  and city is awesome  the sky is pinkish blue  you shouldn't eat cardboard\""
      ]
     },
     "execution_count": 5,
     "metadata": {},
     "output_type": "execute_result"
    }
   ],
   "source": [
    "import re\n",
    "#text=\"SaaaaMMM\"\n",
    "print(text.lower())\n",
    "text = re.sub(r\"[^a-z\\'A-Z]\", \" \", text.lower())\n",
    "text\n"
   ]
  },
  {
   "cell_type": "code",
   "execution_count": 7,
   "metadata": {
    "colab": {
     "base_uri": "https://localhost:8080/"
    },
    "id": "pob6k8i8fPuY",
    "outputId": "a7fdabf7-ddda-4005-af84-c8492f589980"
   },
   "outputs": [
    {
     "name": "stdout",
     "output_type": "stream",
     "text": [
      "['hello', 'mr', 'smith', 'how', 'are', 'you', 'doing', 'today', 'the', 'weather', 'is', 'great', 'and', 'city', 'is', 'awesome', 'the', 'sky', 'is', 'pinkish', 'blue', 'you', \"shouldn't\", 'eat', 'cardboard']\n"
     ]
    }
   ],
   "source": [
    "words= text.split()\n",
    "\n",
    "print(words)"
   ]
  },
  {
   "cell_type": "code",
   "execution_count": 9,
   "metadata": {
    "colab": {
     "base_uri": "https://localhost:8080/"
    },
    "id": "NRtDK6J1i09Y",
    "outputId": "c6379d6b-5180-4a91-e58b-11089b75442a"
   },
   "outputs": [
    {
     "name": "stdout",
     "output_type": "stream",
     "text": [
      "['i', 'me', 'my', 'myself', 'we', 'our', 'ours', 'ourselves', 'you', \"you're\", \"you've\", \"you'll\", \"you'd\", 'your', 'yours', 'yourself', 'yourselves', 'he', 'him', 'his', 'himself', 'she', \"she's\", 'her', 'hers', 'herself', 'it', \"it's\", 'its', 'itself', 'they', 'them', 'their', 'theirs', 'themselves', 'what', 'which', 'who', 'whom', 'this', 'that', \"that'll\", 'these', 'those', 'am', 'is', 'are', 'was', 'were', 'be', 'been', 'being', 'have', 'has', 'had', 'having', 'do', 'does', 'did', 'doing', 'a', 'an', 'the', 'and', 'but', 'if', 'or', 'because', 'as', 'until', 'while', 'of', 'at', 'by', 'for', 'with', 'about', 'against', 'between', 'into', 'through', 'during', 'before', 'after', 'above', 'below', 'to', 'from', 'up', 'down', 'in', 'out', 'on', 'off', 'over', 'under', 'again', 'further', 'then', 'once', 'here', 'there', 'when', 'where', 'why', 'how', 'all', 'any', 'both', 'each', 'few', 'more', 'most', 'other', 'some', 'such', 'no', 'nor', 'not', 'only', 'own', 'same', 'so', 'than', 'too', 'very', 's', 't', 'can', 'will', 'just', 'don', \"don't\", 'should', \"should've\", 'now', 'd', 'll', 'm', 'o', 're', 've', 'y', 'ain', 'aren', \"aren't\", 'couldn', \"couldn't\", 'didn', \"didn't\", 'doesn', \"doesn't\", 'hadn', \"hadn't\", 'hasn', \"hasn't\", 'haven', \"haven't\", 'isn', \"isn't\", 'ma', 'mightn', \"mightn't\", 'mustn', \"mustn't\", 'needn', \"needn't\", 'shan', \"shan't\", 'shouldn', \"shouldn't\", 'wasn', \"wasn't\", 'weren', \"weren't\", 'won', \"won't\", 'wouldn', \"wouldn't\"]\n"
     ]
    }
   ],
   "source": [
    "from nltk.corpus import stopwords\n",
    "print(stopwords.words(\"english\"))"
   ]
  },
  {
   "cell_type": "code",
   "execution_count": 11,
   "metadata": {
    "colab": {
     "base_uri": "https://localhost:8080/"
    },
    "id": "PsJ7PZuHi5MU",
    "outputId": "48c00dd4-999a-41bf-8000-dbabc4e619bf"
   },
   "outputs": [
    {
     "name": "stdout",
     "output_type": "stream",
     "text": [
      "['hello', 'mr', 'smith', 'today', 'weather', 'great', 'city', 'awesome', 'sky', 'pinkish', 'blue', 'eat', 'cardboard']\n"
     ]
    }
   ],
   "source": [
    "words = [w for w in words if w not in stopwords.words(\"english\")]\n",
    "print(words)\n",
    "\n",
    "#for k in words:\n",
    " # for l in k:\n",
    "  #  if l not in stopwords.words(\"english\"):\n",
    "\n",
    "   #   print(l)"
   ]
  },
  {
   "cell_type": "code",
   "execution_count": 13,
   "metadata": {
    "colab": {
     "base_uri": "https://localhost:8080/"
    },
    "id": "WH_B-GlQi91J",
    "outputId": "fd3c12f9-2955-4e24-d6fc-f5a4795ed584"
   },
   "outputs": [
    {
     "name": "stdout",
     "output_type": "stream",
     "text": [
      "['hello', 'mr', 'smith', 'today', 'weather', 'great', 'citi', 'awesom', 'sky', 'pinkish', 'blue', 'eat', 'cardboard']\n"
     ]
    }
   ],
   "source": [
    "from nltk.stem.porter import PorterStemmer\n",
    "# Reduce words to their stems\n",
    "stemmed = [PorterStemmer().stem(w) for w in words]\n",
    "print(stemmed)\n"
   ]
  },
  {
   "cell_type": "code",
   "execution_count": 15,
   "metadata": {
    "colab": {
     "base_uri": "https://localhost:8080/"
    },
    "id": "wrjeBSHsjBwh",
    "outputId": "5ef76bcc-94d7-42de-e493-3e181947fa49"
   },
   "outputs": [
    {
     "name": "stdout",
     "output_type": "stream",
     "text": [
      "['hello', 'mr', 'smith', 'today', 'weather', 'great', 'city', 'awesome', 'sky', 'pinkish', 'blue', 'eat', 'cardboard']\n"
     ]
    }
   ],
   "source": [
    "from nltk.stem.wordnet import WordNetLemmatizer\n",
    "# Reduce words to their root form\n",
    "lemmed = [WordNetLemmatizer().lemmatize(w) for w in words]\n",
    "print(lemmed)"
   ]
  },
  {
   "cell_type": "code",
   "execution_count": 27,
   "metadata": {
    "colab": {
     "base_uri": "https://localhost:8080/",
     "height": 588
    },
    "id": "DuSwQpx8kgyz",
    "outputId": "82007f28-bff2-4b10-b8c5-bbf5d345c663"
   },
   "outputs": [
    {
     "name": "stdout",
     "output_type": "stream",
     "text": [
      "[('hello', 'NN'), ('mr', 'NN'), ('smith', 'NN'), ('today', 'NN'), ('weather', 'VBP'), ('great', 'JJ'), ('city', 'NN'), ('awesome', 'VBP'), ('sky', 'JJ'), ('pinkish', 'JJ'), ('blue', 'NN'), ('eat', 'NN'), ('cardboard', 'NN')]\n",
      "After Extracting (S\n",
      "  hello/NN\n",
      "  mr/NN\n",
      "  smith/NN\n",
      "  today/NN\n",
      "  weather/NN\n",
      "  great/JJ\n",
      "  city/NN\n",
      "  awesome/VBP\n",
      "  sky/JJ\n",
      "  pinkish/JJ\n",
      "  blue/NN\n",
      "  eat/VB\n",
      "  cardboard/NN)\n"
     ]
    }
   ],
   "source": [
    "from nltk import pos_tag,RegexpParser\n",
    "\n",
    "tagged=pos_tag(lemmed)\n",
    "print(tagged)\n",
    "for i, (word, tag) in enumerate(tagged):\n",
    "    if word == \"weather\":\n",
    "        tagged[i] = (word, \"NN\")  \n",
    "    if word == \"eat\":\n",
    "        tagged[i] = (word, \"VB\")\n",
    "'''chunker = RegexpParser(\"\"\"\n",
    "NP: {<DT>?<JJ>*<NN.*>}    # Noun Phrases ?-MAKES THE determiner optional ,the noun phrase could be just an adjective and a noun\n",
    "  P: {<IN>}                 # Prepositions-<IN> regexp looks for a word tagged as an in preposition\n",
    "  V: {<VB.*>}               # Verbs -this regexp matches any form of  a verb\n",
    "  PP: {<P><NP>}             # Prepositional Phrases <P> preposition and <NP> noun phrase\n",
    "  VP: {<V><NP|PP>*}         # Verb Phrases- * indicates 0 or more noun or prepositional phrase after verb\"\"\")'''\n",
    "chunker=RegexpParser(\"\"\"\n",
    "NP:{}\n",
    "P:{}\n",
    "V:{}\n",
    "PP:{}\n",
    "VP:{}\n",
    "\n",
    "\"\"\")\n",
    "output = chunker.parse(tagged)\n",
    "print(\"After Extracting\", output)\n"
   ]
  },
  {
   "cell_type": "code",
   "execution_count": null,
   "metadata": {},
   "outputs": [],
   "source": []
  }
 ],
 "metadata": {
  "colab": {
   "provenance": []
  },
  "kernelspec": {
   "display_name": "Python 3 (ipykernel)",
   "language": "python",
   "name": "python3"
  },
  "language_info": {
   "codemirror_mode": {
    "name": "ipython",
    "version": 3
   },
   "file_extension": ".py",
   "mimetype": "text/x-python",
   "name": "python",
   "nbconvert_exporter": "python",
   "pygments_lexer": "ipython3",
   "version": "3.11.7"
  }
 },
 "nbformat": 4,
 "nbformat_minor": 4
}
