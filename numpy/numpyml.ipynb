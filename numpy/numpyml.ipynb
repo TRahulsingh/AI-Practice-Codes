{
 "cells": [
  {
   "cell_type": "markdown",
   "id": "82244738-1a5c-46be-b91d-9bd60056f54e",
   "metadata": {},
   "source": [
    "#NumPy\n",
    "1. **NumPy is a Python library used for working with arrays**\n",
    "\n",
    "2. *It also has functions for working in domain of linear algebra and matrices.*\n",
    "\n",
    "3. NumPy was created in 2005 by **Travis Oliphant.** It is an open source project and you can use it freely.\n",
    "\n",
    "4. **NumPy stands for Numerical Python.**"
   ]
  },
  {
   "cell_type": "markdown",
   "id": "ddb9fba1-f94a-4ca9-b9f7-674720b2f80c",
   "metadata": {},
   "source": [
    "#**Why Use NumPy?**\n",
    "\n",
    "-In Python we have ***lists that serve the purpose of arrays, but they are slow to process***.\n",
    "\n",
    "-NumPy aims to provide an array object that is up to **50x faster than traditional Python lists**.\n",
    "\n",
    "-***The array object in NumPy is called ndarray***, it provides a lot of supporting functions that make working with ndarray very easy."
   ]
  },
  {
   "cell_type": "code",
   "execution_count": 3,
   "id": "fd9c83a9-de72-473b-9c35-03e6377b5349",
   "metadata": {},
   "outputs": [],
   "source": [
    "import numpy as np"
   ]
  },
  {
   "cell_type": "code",
   "execution_count": 4,
   "id": "087da0e5-159e-4a21-9201-163537ef818a",
   "metadata": {},
   "outputs": [
    {
     "name": "stdout",
     "output_type": "stream",
     "text": [
      "Requirement already satisfied: numpy in c:\\users\\hp\\anaconda3\\lib\\site-packages (1.26.4)\n",
      "Note: you may need to restart the kernel to use updated packages.\n"
     ]
    }
   ],
   "source": [
    "pip install numpy"
   ]
  },
  {
   "cell_type": "code",
   "execution_count": 5,
   "id": "8aa837fa-0eb1-403b-9d7c-bcbedff6bd8e",
   "metadata": {},
   "outputs": [
    {
     "data": {
      "text/plain": [
       "'1.26.4'"
      ]
     },
     "execution_count": 5,
     "metadata": {},
     "output_type": "execute_result"
    }
   ],
   "source": [
    "np.__version__"
   ]
  },
  {
   "cell_type": "markdown",
   "id": "58ee6064-5b13-4494-84ea-70453d9901be",
   "metadata": {},
   "source": [
    "**NumPy is used to work with arrays. The array object in NumPy is called ndarray.**\n",
    "\n",
    "We can ***create a NumPy ndarray object by using the array() function.***"
   ]
  },
  {
   "cell_type": "markdown",
   "id": "97136468-df7a-4834-8fae-f4880945e47d",
   "metadata": {},
   "source": [
    "**Dimensions in Arrays**\n",
    "\n",
    "1.A dimension in arrays is one level of array depth (nested arrays).\n",
    "\n",
    "2.dimensions refer to the **number of axes or directions along which data is organized** in an array.\n",
    "\n",
    "3.**nested array: are arrays that have arrays as their elements.**"
   ]
  },
  {
   "cell_type": "code",
   "execution_count": 6,
   "id": "adc8891c-0680-460e-b868-0d1ccac3efb5",
   "metadata": {},
   "outputs": [
    {
     "data": {
      "text/plain": [
       "array([1, 2, 3])"
      ]
     },
     "execution_count": 6,
     "metadata": {},
     "output_type": "execute_result"
    }
   ],
   "source": [
    "#1-D Array\n",
    "array1=np.array([1,2,3])\n",
    "array1"
   ]
  },
  {
   "cell_type": "markdown",
   "id": "2a8bd04d-e539-4c83-9e9c-000bd134b16d",
   "metadata": {},
   "source": [
    "This creates the array we can see on the right here:\r\n",
    "\r\n",
    "![](http://jalammar.github.io/images/numpy/create-numpy-array-1.png)"
   ]
  },
  {
   "cell_type": "code",
   "execution_count": 7,
   "id": "c7c8983c-acd7-4ea1-82ef-30e196a937f9",
   "metadata": {},
   "outputs": [
    {
     "data": {
      "text/plain": [
       "numpy.ndarray"
      ]
     },
     "execution_count": 7,
     "metadata": {},
     "output_type": "execute_result"
    }
   ],
   "source": [
    "type(array1)"
   ]
  },
  {
   "cell_type": "markdown",
   "id": "02d58852-02c4-42e2-a468-5aad89cb54f0",
   "metadata": {},
   "source": [
    "**To create a `numpy` array with more dimensions, we can pass nested lists, like this:**\r\n",
    "\r\n",
    "![](http://jalammar.github.io/images/numpy/numpy-array-create-2d.png)"
   ]
  },
  {
   "cell_type": "code",
   "execution_count": 8,
   "id": "0893c232-8efd-4948-958f-7235a1d5a6e3",
   "metadata": {},
   "outputs": [
    {
     "data": {
      "text/plain": [
       "array([[1. , 2. , 3.3],\n",
       "       [4. , 5. , 6.5]])"
      ]
     },
     "execution_count": 8,
     "metadata": {},
     "output_type": "execute_result"
    }
   ],
   "source": [
    "#2-D Array\n",
    "'''An array that has 1-D arrays as its elements is called a 2-D array.'''\n",
    "array2=np.array([[1,2,3.3]\n",
    "                ,[4,5,6.5]])\n",
    "array2"
   ]
  },
  {
   "cell_type": "markdown",
   "id": "c58e5a28-9a91-4a09-a698-f8e0c0583720",
   "metadata": {},
   "source": [
    "To create a `numpy` array with more dimensions, we can pass nested lists, like this:\r\n",
    "\r\n",
    "![](http://jalammar.github.io/images/numpy/numpy-3d-array.png)"
   ]
  },
  {
   "cell_type": "code",
   "execution_count": 9,
   "id": "f29b1da9-0e8e-42c0-8123-f2094db86ad4",
   "metadata": {},
   "outputs": [],
   "source": [
    "arrex=np.array([\n",
    "                [\n",
    "                    [1,2],\n",
    "                    [3,4]\n",
    "                ],\n",
    "                [\n",
    "                    [5,6],\n",
    "                    [7,8]\n",
    "                ]\n",
    "])"
   ]
  },
  {
   "cell_type": "code",
   "execution_count": 10,
   "id": "d4ff3618-8f2f-46cc-965b-aed04a1b958d",
   "metadata": {},
   "outputs": [
    {
     "data": {
      "text/plain": [
       "array([[[1, 2],\n",
       "        [3, 4]],\n",
       "\n",
       "       [[5, 6],\n",
       "        [7, 8]]])"
      ]
     },
     "execution_count": 10,
     "metadata": {},
     "output_type": "execute_result"
    }
   ],
   "source": [
    "arrex"
   ]
  },
  {
   "cell_type": "code",
   "execution_count": 11,
   "id": "6a43add2-a5a8-43ea-908b-3fff1e01ceb8",
   "metadata": {},
   "outputs": [
    {
     "data": {
      "text/plain": [
       "array([[[ 1,  2,  3],\n",
       "        [ 4,  5,  6],\n",
       "        [ 7,  8,  9]],\n",
       "\n",
       "       [[10, 11, 12],\n",
       "        [13, 14, 15],\n",
       "        [16, 17, 18]]])"
      ]
     },
     "execution_count": 11,
     "metadata": {},
     "output_type": "execute_result"
    }
   ],
   "source": [
    "#3-D Array has depth,row and column\n",
    "'''An array that has 2-D arrays (matrices) as its elements is called 3-D array.'''\n",
    "array3=np.array([[[1,2,3],\n",
    "                  [4,5,6],\n",
    "                  [7,8,9]],\n",
    "                 [[10,11,12],\n",
    "                  [13,14,15],\n",
    "                  [16,17,18]]])\n",
    "array3"
   ]
  },
  {
   "cell_type": "markdown",
   "id": "c9506605-d0f7-499a-9329-ddda66e53622",
   "metadata": {},
   "source": [
    "**To create an ndarray, we can pass a list, tuple or any array-like object into the array() method, and it will be converted into an ndarray:**"
   ]
  },
  {
   "cell_type": "code",
   "execution_count": 12,
   "id": "0bc26184-1de1-4849-8896-338a73b7757f",
   "metadata": {},
   "outputs": [
    {
     "data": {
      "text/plain": [
       "array([12, 13, 14])"
      ]
     },
     "execution_count": 12,
     "metadata": {},
     "output_type": "execute_result"
    }
   ],
   "source": [
    "#passing list of elements as tuple\n",
    "array4=np.array((12,13,14))\n",
    "array4"
   ]
  },
  {
   "cell_type": "markdown",
   "id": "e6fe7a38-c16b-42f2-b594-a52e3d96a7d5",
   "metadata": {},
   "source": [
    "NumPy Arrays provides the **ndim** attribute that **returns an integer that tells us how many dimensions the array have**."
   ]
  },
  {
   "cell_type": "code",
   "execution_count": 13,
   "id": "df9b28e0-adf7-4ed0-84ae-5e17cb0e93f6",
   "metadata": {},
   "outputs": [
    {
     "name": "stdout",
     "output_type": "stream",
     "text": [
      "1\n"
     ]
    }
   ],
   "source": [
    "print(array1.ndim)"
   ]
  },
  {
   "cell_type": "code",
   "execution_count": 14,
   "id": "fcbafc4d-33da-4f99-b866-e3222892d725",
   "metadata": {},
   "outputs": [
    {
     "name": "stdout",
     "output_type": "stream",
     "text": [
      "2\n"
     ]
    }
   ],
   "source": [
    "print(array2.ndim)"
   ]
  },
  {
   "cell_type": "code",
   "execution_count": 15,
   "id": "80cd7acf-b29f-4823-97f8-b51b340e2d0c",
   "metadata": {},
   "outputs": [
    {
     "name": "stdout",
     "output_type": "stream",
     "text": [
      "3\n"
     ]
    }
   ],
   "source": [
    "print(array3.ndim)"
   ]
  },
  {
   "cell_type": "code",
   "execution_count": 16,
   "id": "08b61559-f225-4ae3-b9b8-a4f1a6604d5d",
   "metadata": {},
   "outputs": [
    {
     "name": "stdout",
     "output_type": "stream",
     "text": [
      "1\n"
     ]
    }
   ],
   "source": [
    "print(array4.ndim)"
   ]
  },
  {
   "cell_type": "markdown",
   "id": "0671134c-6c24-4e9d-bbe4-5f056b722bbc",
   "metadata": {},
   "source": [
    "An array can have any number of dimensions.\n",
    "\n",
    "When the array is created, you can **define the number of dimensions** by using the **ndmin argument**."
   ]
  },
  {
   "cell_type": "code",
   "execution_count": 17,
   "id": "3a4c2b20-b3e8-4f48-bb7d-e4b042f1c513",
   "metadata": {},
   "outputs": [
    {
     "data": {
      "text/plain": [
       "array([[[[1, 2, 3, 5]]]])"
      ]
     },
     "execution_count": 17,
     "metadata": {},
     "output_type": "execute_result"
    }
   ],
   "source": [
    "array5=np.array([1,2,3,5],ndmin=4)\n",
    "array5"
   ]
  },
  {
   "cell_type": "markdown",
   "id": "4edb74e0-593c-491c-bcad-6e67fe21873b",
   "metadata": {},
   "source": [
    "**Since the input list has 4 elements, NumPy adds extra dimensions to meet the minimum requirement, resulting in a shape of (1, 1, 1, 4).**"
   ]
  },
  {
   "cell_type": "code",
   "execution_count": 18,
   "id": "74f19377-d962-4dc0-9160-4825918194e9",
   "metadata": {},
   "outputs": [
    {
     "name": "stdout",
     "output_type": "stream",
     "text": [
      "4\n"
     ]
    }
   ],
   "source": [
    "print(array5.ndim)"
   ]
  },
  {
   "cell_type": "code",
   "execution_count": 19,
   "id": "405dd0ad-60f8-402c-8b76-264c68adc92a",
   "metadata": {},
   "outputs": [
    {
     "data": {
      "text/plain": [
       "(1, 1, 1, 4)"
      ]
     },
     "execution_count": 19,
     "metadata": {},
     "output_type": "execute_result"
    }
   ],
   "source": [
    "array5.shape"
   ]
  },
  {
   "cell_type": "markdown",
   "id": "6530e45b-2679-4997-8c98-cb43044b67cf",
   "metadata": {},
   "source": [
    "**Access Array Elements**\n",
    "\n",
    "1.Array indexing is the same as accessing an array element.\n",
    "\n",
    "2.You can access an array element by referring to its **index number.**\n",
    "\n",
    "3.***The indexes in NumPy arrays start with 0***, meaning that the first element has index 0, and the second has index 1 etc."
   ]
  },
  {
   "cell_type": "code",
   "execution_count": 20,
   "id": "2dca1b16-a35d-400e-9eab-30e7ffefddb0",
   "metadata": {},
   "outputs": [
    {
     "data": {
      "text/plain": [
       "array([[1. , 2. , 3.3],\n",
       "       [4. , 5. , 6.5]])"
      ]
     },
     "execution_count": 20,
     "metadata": {},
     "output_type": "execute_result"
    }
   ],
   "source": [
    "array2"
   ]
  },
  {
   "cell_type": "code",
   "execution_count": 21,
   "id": "c0c3cc0d-56be-4233-a413-5197b59d9e28",
   "metadata": {},
   "outputs": [
    {
     "data": {
      "text/plain": [
       "2.0"
      ]
     },
     "execution_count": 21,
     "metadata": {},
     "output_type": "execute_result"
    }
   ],
   "source": [
    "array2[0][1]"
   ]
  },
  {
   "cell_type": "markdown",
   "id": "e128b11a-a546-4670-8ac5-e6cf309f935a",
   "metadata": {},
   "source": [
    "**Shape of an Array**\n",
    "The shape of an array is the **number of elements in each dimension**."
   ]
  },
  {
   "cell_type": "code",
   "execution_count": 22,
   "id": "161786e3-8797-4171-9dde-8352345531d0",
   "metadata": {},
   "outputs": [
    {
     "data": {
      "text/plain": [
       "(2, 3)"
      ]
     },
     "execution_count": 22,
     "metadata": {},
     "output_type": "execute_result"
    }
   ],
   "source": [
    "array2.shape"
   ]
  },
  {
   "cell_type": "code",
   "execution_count": 23,
   "id": "77a0e433-228c-47d2-a631-f12a46ee1946",
   "metadata": {},
   "outputs": [
    {
     "name": "stdout",
     "output_type": "stream",
     "text": [
      "1.0\n",
      "2.0\n",
      "3.3\n",
      "4.0\n",
      "5.0\n",
      "6.5\n"
     ]
    }
   ],
   "source": [
    "for x in range(0, 2):\n",
    "    for y in range(0, 3):\n",
    "        print(array2[x][y])"
   ]
  },
  {
   "cell_type": "code",
   "execution_count": 24,
   "id": "d332ade1-1500-4c3e-af2a-d8f15a460b35",
   "metadata": {},
   "outputs": [
    {
     "data": {
      "text/plain": [
       "array([1, 2, 3])"
      ]
     },
     "execution_count": 24,
     "metadata": {},
     "output_type": "execute_result"
    }
   ],
   "source": [
    "array1"
   ]
  },
  {
   "cell_type": "code",
   "execution_count": 25,
   "id": "332637d2-fd2f-418d-bc91-10ec2d3aa265",
   "metadata": {},
   "outputs": [
    {
     "data": {
      "text/plain": [
       "(3,)"
      ]
     },
     "execution_count": 25,
     "metadata": {},
     "output_type": "execute_result"
    }
   ],
   "source": [
    "array1.shape"
   ]
  },
  {
   "cell_type": "code",
   "execution_count": 26,
   "id": "9a568aa1-9fb0-495c-acd0-123397021a54",
   "metadata": {},
   "outputs": [
    {
     "data": {
      "text/plain": [
       "array([[1. , 2. , 3.3],\n",
       "       [4. , 5. , 6.5]])"
      ]
     },
     "execution_count": 26,
     "metadata": {},
     "output_type": "execute_result"
    }
   ],
   "source": [
    "array2"
   ]
  },
  {
   "cell_type": "code",
   "execution_count": 27,
   "id": "ad3069bd-79f3-4ee1-886b-6613bb8184b3",
   "metadata": {},
   "outputs": [
    {
     "data": {
      "text/plain": [
       "(2, 3)"
      ]
     },
     "execution_count": 27,
     "metadata": {},
     "output_type": "execute_result"
    }
   ],
   "source": [
    "#2 partitions with 3 elements in each\n",
    "#2 rows and 3 columns\n",
    "array2.shape"
   ]
  },
  {
   "cell_type": "code",
   "execution_count": 28,
   "id": "fde7cb2e-e805-47b5-8906-778613dcab07",
   "metadata": {},
   "outputs": [
    {
     "data": {
      "text/plain": [
       "array([[[ 1,  2,  3],\n",
       "        [ 4,  5,  6],\n",
       "        [ 7,  8,  9]],\n",
       "\n",
       "       [[10, 11, 12],\n",
       "        [13, 14, 15],\n",
       "        [16, 17, 18]]])"
      ]
     },
     "execution_count": 28,
     "metadata": {},
     "output_type": "execute_result"
    }
   ],
   "source": [
    "array3"
   ]
  },
  {
   "cell_type": "code",
   "execution_count": 29,
   "id": "65742cff-939e-4389-a51f-0c2361e79bdc",
   "metadata": {},
   "outputs": [
    {
     "data": {
      "text/plain": [
       "(2, 3, 3)"
      ]
     },
     "execution_count": 29,
     "metadata": {},
     "output_type": "execute_result"
    }
   ],
   "source": [
    "#2 partitions with 3 rows and 3 columns in each\n",
    "\n",
    "array3.shape"
   ]
  },
  {
   "cell_type": "markdown",
   "id": "177d6306-3c5b-4b5e-8869-6419c6d311c4",
   "metadata": {},
   "source": [
    "The NumPy array object has a property called **dtype that returns the data type of the array:**"
   ]
  },
  {
   "cell_type": "code",
   "execution_count": 30,
   "id": "8d834d28-ee6d-4759-93e9-a4c2caa575ec",
   "metadata": {},
   "outputs": [
    {
     "data": {
      "text/plain": [
       "dtype('int32')"
      ]
     },
     "execution_count": 30,
     "metadata": {},
     "output_type": "execute_result"
    }
   ],
   "source": [
    "array1.dtype"
   ]
  },
  {
   "cell_type": "code",
   "execution_count": 31,
   "id": "c8d5d800-a0c0-443c-b869-6fe5e3fc5e74",
   "metadata": {},
   "outputs": [
    {
     "data": {
      "text/plain": [
       "dtype('float64')"
      ]
     },
     "execution_count": 31,
     "metadata": {},
     "output_type": "execute_result"
    }
   ],
   "source": [
    "array2.dtype"
   ]
  },
  {
   "cell_type": "code",
   "execution_count": 32,
   "id": "154a9b00-b857-4d0c-92e5-fe605869ef08",
   "metadata": {},
   "outputs": [
    {
     "data": {
      "text/plain": [
       "dtype('int32')"
      ]
     },
     "execution_count": 32,
     "metadata": {},
     "output_type": "execute_result"
    }
   ],
   "source": [
    "array3.dtype"
   ]
  },
  {
   "cell_type": "code",
   "execution_count": 33,
   "id": "256aef52-f2fa-4818-8e98-ba875aa483f0",
   "metadata": {},
   "outputs": [
    {
     "data": {
      "text/plain": [
       "dtype('int32')"
      ]
     },
     "execution_count": 33,
     "metadata": {},
     "output_type": "execute_result"
    }
   ],
   "source": [
    "array4.dtype"
   ]
  },
  {
   "cell_type": "code",
   "execution_count": 34,
   "id": "0681f72d-bc88-44c8-a096-82e443ca1151",
   "metadata": {},
   "outputs": [
    {
     "data": {
      "text/plain": [
       "(dtype('int32'), dtype('int32'))"
      ]
     },
     "execution_count": 34,
     "metadata": {},
     "output_type": "execute_result"
    }
   ],
   "source": [
    "array1.dtype,array4.dtype"
   ]
  },
  {
   "cell_type": "markdown",
   "id": "b995fc23-252a-4cd6-a8f4-406ff3268c79",
   "metadata": {},
   "source": [
    "**dtype='S': This specifies that the data type of the array elements is a byte string. The default byte length is 1, meaning each integer is converted into its byte representation.**"
   ]
  },
  {
   "cell_type": "code",
   "execution_count": 35,
   "id": "2a7f2bb3-57d8-4d85-9db9-4faaa386a65d",
   "metadata": {},
   "outputs": [],
   "source": [
    "array5=np.array([1,2,3,4,5],dtype='S')"
   ]
  },
  {
   "cell_type": "code",
   "execution_count": 36,
   "id": "d7d0f917-4c58-4567-8a61-2a8a289fb06f",
   "metadata": {},
   "outputs": [
    {
     "data": {
      "text/plain": [
       "array([b'1', b'2', b'3', b'4', b'5'], dtype='|S1')"
      ]
     },
     "execution_count": 36,
     "metadata": {},
     "output_type": "execute_result"
    }
   ],
   "source": [
    "array5"
   ]
  },
  {
   "cell_type": "markdown",
   "id": "e35b9957-73c4-4ecf-abef-35748373c6a8",
   "metadata": {},
   "source": [
    "**b'1' These are byte strings representing individual elements of the array**\n",
    "\n",
    "**|S1 string of length 1**"
   ]
  },
  {
   "cell_type": "code",
   "execution_count": 50,
   "id": "216d5f0d-c058-432a-a71a-8cecbb4f03c7",
   "metadata": {},
   "outputs": [
    {
     "data": {
      "text/plain": [
       "array([[1. , 2. , 3.3],\n",
       "       [4. , 5. , 6.5]])"
      ]
     },
     "execution_count": 50,
     "metadata": {},
     "output_type": "execute_result"
    }
   ],
   "source": [
    "array2"
   ]
  },
  {
   "cell_type": "code",
   "execution_count": 37,
   "id": "b249d234-397b-4d44-8a09-3bedbaa0f9d9",
   "metadata": {},
   "outputs": [
    {
     "data": {
      "text/plain": [
       "array([[1, 2, 3],\n",
       "       [4, 5, 6]], dtype=int32)"
      ]
     },
     "execution_count": 37,
     "metadata": {},
     "output_type": "execute_result"
    }
   ],
   "source": [
    "#Change data type from float to integer by using 'i' as parameter value:\n",
    "array2conv=array2.astype('i')\n",
    "array2conv"
   ]
  },
  {
   "cell_type": "code",
   "execution_count": 38,
   "id": "450bd114-e2c7-45a0-9741-224f15711a16",
   "metadata": {},
   "outputs": [
    {
     "data": {
      "text/plain": [
       "array([[1., 2., 3.],\n",
       "       [4., 5., 6.]], dtype=float32)"
      ]
     },
     "execution_count": 38,
     "metadata": {},
     "output_type": "execute_result"
    }
   ],
   "source": [
    "array2float=array2conv.astype('f')\n",
    "array2float"
   ]
  },
  {
   "cell_type": "markdown",
   "id": "59f6df28-02ee-4e22-955f-3a0be2054cc5",
   "metadata": {},
   "source": [
    "**Python numpy.ones() function returns a new array of given shape and data type, where the element’s value is set to 1.**"
   ]
  },
  {
   "cell_type": "markdown",
   "id": "a2c5ffee-0847-4064-bdf5-0a67a716b4f1",
   "metadata": {},
   "source": [
    "There are often cases when we want numpy to initialize the values of the array for us. numpy provides methods like `ones()`, `zeros()`, and `random.random()` for these cases. We just pass them the number of elements we want it to generate:\r\n",
    "\r\n",
    "![](http://jalammar.github.io/images/numpy/create-numpy-array-ones-zeros-random.png)"
   ]
  },
  {
   "cell_type": "code",
   "execution_count": 51,
   "id": "bcf7adf4-6164-4a79-be65-5e758b757dd2",
   "metadata": {},
   "outputs": [
    {
     "data": {
      "text/plain": [
       "array([[1, 1],\n",
       "       [1, 1]])"
      ]
     },
     "execution_count": 51,
     "metadata": {},
     "output_type": "execute_result"
    }
   ],
   "source": [
    "numone=np.ones((2,2),dtype=int)\n",
    "numone"
   ]
  },
  {
   "cell_type": "code",
   "execution_count": 40,
   "id": "5b612d07-7c47-445d-956b-f5297d3af3d1",
   "metadata": {},
   "outputs": [
    {
     "data": {
      "text/plain": [
       "array([[1., 1.],\n",
       "       [1., 1.],\n",
       "       [1., 1.]])"
      ]
     },
     "execution_count": 40,
     "metadata": {},
     "output_type": "execute_result"
    }
   ],
   "source": [
    "numsone=np.ones((3,2))\n",
    "numsone"
   ]
  },
  {
   "cell_type": "markdown",
   "id": "c14686f6-89ed-43f5-8698-02a38c62f039",
   "metadata": {},
   "source": [
    "We can also use these methods to produce multi-dimensional arrays, as long as we pass them a tuple describing the dimensions of the matrix we want to create:\n",
    "\n",
    "![](http://jalammar.github.io/images/numpy/numpy-matrix-ones-zeros-random.png)\n",
    "\n",
    "![](http://jalammar.github.io/images/numpy/numpy-3d-array-creation.png)"
   ]
  },
  {
   "cell_type": "markdown",
   "id": "9e512055-bff2-4dcd-b358-3c847e5c11a1",
   "metadata": {},
   "source": [
    "**Python numpy.zeros() function returns a new array of given shape and type, where the element’s value as 0.**"
   ]
  },
  {
   "cell_type": "code",
   "execution_count": 41,
   "id": "c4909095-f26a-458b-b5ed-6e87684eec96",
   "metadata": {},
   "outputs": [
    {
     "data": {
      "text/plain": [
       "array([[0., 0.],\n",
       "       [0., 0.],\n",
       "       [0., 0.]])"
      ]
     },
     "execution_count": 41,
     "metadata": {},
     "output_type": "execute_result"
    }
   ],
   "source": [
    "numszero=np.zeros((3,2))\n",
    "numszero"
   ]
  },
  {
   "cell_type": "code",
   "execution_count": 42,
   "id": "5d38056a-8756-444b-baeb-c503e2377ca2",
   "metadata": {},
   "outputs": [
    {
     "data": {
      "text/plain": [
       "array([[0., 0., 0.],\n",
       "       [0., 0., 0.]])"
      ]
     },
     "execution_count": 42,
     "metadata": {},
     "output_type": "execute_result"
    }
   ],
   "source": [
    "numzero=np.zeros((2,3))\n",
    "numzero"
   ]
  },
  {
   "cell_type": "markdown",
   "id": "093c7c73-8331-48b9-9996-f0ffeb9147b4",
   "metadata": {},
   "source": [
    "**Syntax**\n",
    "\n",
    "import numpy as np\n",
    "\n",
    "**np.arange(start, stop, step, dtype=None)**\n",
    "\n",
    "**Arguments**\n",
    "\n",
    "1.start: The starting value of the sequence (inclusive). If omitted, it defaults to 0.\n",
    "\n",
    "2.stop: The end value of the sequence (exclusive).\n",
    "\n",
    "3.step: The spacing between values in the sequence (default is 1). It can be positive or negative.\n",
    "\n",
    "4.dtype: Optional data type for the elements of the array (default is float)."
   ]
  },
  {
   "cell_type": "code",
   "execution_count": 43,
   "id": "1e0eccc1-112b-4775-8588-84038f0e9a76",
   "metadata": {},
   "outputs": [
    {
     "data": {
      "text/plain": [
       "array([0, 3, 6, 9])"
      ]
     },
     "execution_count": 43,
     "metadata": {},
     "output_type": "execute_result"
    }
   ],
   "source": [
    "range_array=np.arange(0,10,3)\n",
    "range_array"
   ]
  },
  {
   "cell_type": "markdown",
   "id": "3e1badba-8c34-4093-bd1d-71934aa999d8",
   "metadata": {},
   "source": [
    "**np.random.randint(low, high=None, size=None, dtype=int)**\n",
    "\n",
    "1.low: int or array-like of ints: Lowest integers are drawn from the random values.\n",
    "\n",
    "2.high: int or array-like of ints, optional: Larger or highest integers are drawn from the random values.\n",
    "\n",
    "3.size: int or tuple of ints, optional: The shape of the array you want to create.\n",
    "\n",
    "4.dtype: dtype, optional The type of the output you want.\n"
   ]
  },
  {
   "cell_type": "code",
   "execution_count": 56,
   "id": "165dbf95-ea96-443e-9b80-60f1a22f3449",
   "metadata": {},
   "outputs": [
    {
     "data": {
      "text/plain": [
       "array([0, 0, 0, 0, 0])"
      ]
     },
     "execution_count": 56,
     "metadata": {},
     "output_type": "execute_result"
    }
   ],
   "source": [
    "# create a 1-D array\n",
    "a = np.random.randint(low = 1, size = 5)\n",
    "a"
   ]
  },
  {
   "cell_type": "code",
   "execution_count": 45,
   "id": "4f422162-4680-401e-bfe1-d25e22462221",
   "metadata": {},
   "outputs": [
    {
     "data": {
      "text/plain": [
       "array([[3, 5, 4],\n",
       "       [4, 4, 2]])"
      ]
     },
     "execution_count": 45,
     "metadata": {},
     "output_type": "execute_result"
    }
   ],
   "source": [
    "b=np.random.randint(low=1,high=6,size=(2,3))\n",
    "b"
   ]
  },
  {
   "cell_type": "code",
   "execution_count": 46,
   "id": "19d8173b-8af4-41fb-9882-6876e530c1bf",
   "metadata": {},
   "outputs": [
    {
     "data": {
      "text/plain": [
       "array([1, 2, 3])"
      ]
     },
     "execution_count": 46,
     "metadata": {},
     "output_type": "execute_result"
    }
   ],
   "source": [
    "array1"
   ]
  },
  {
   "cell_type": "code",
   "execution_count": 47,
   "id": "47238247-652a-45f0-8878-e451e40a8643",
   "metadata": {},
   "outputs": [
    {
     "data": {
      "text/plain": [
       "array([12, 13, 14])"
      ]
     },
     "execution_count": 47,
     "metadata": {},
     "output_type": "execute_result"
    }
   ],
   "source": [
    "array4"
   ]
  },
  {
   "cell_type": "code",
   "execution_count": 48,
   "id": "60192f37-cfcd-45cf-89ae-f46e6b0badd6",
   "metadata": {},
   "outputs": [
    {
     "data": {
      "text/plain": [
       "array([ 1,  2,  3, 12, 13, 14])"
      ]
     },
     "execution_count": 48,
     "metadata": {},
     "output_type": "execute_result"
    }
   ],
   "source": [
    "#concatenate two or more arrays at once\n",
    "np.concatenate([array1,array4])"
   ]
  },
  {
   "cell_type": "code",
   "execution_count": 49,
   "id": "5c47ae1a-9a80-44f9-a32c-363df006d8a0",
   "metadata": {},
   "outputs": [
    {
     "ename": "ValueError",
     "evalue": "all the input arrays must have same number of dimensions, but the array at index 0 has 2 dimension(s) and the array at index 1 has 3 dimension(s)",
     "output_type": "error",
     "traceback": [
      "\u001b[1;31m---------------------------------------------------------------------------\u001b[0m",
      "\u001b[1;31mValueError\u001b[0m                                Traceback (most recent call last)",
      "Cell \u001b[1;32mIn[49], line 1\u001b[0m\n\u001b[1;32m----> 1\u001b[0m np\u001b[38;5;241m.\u001b[39mconcatenate([array2,array3])\n",
      "\u001b[1;31mValueError\u001b[0m: all the input arrays must have same number of dimensions, but the array at index 0 has 2 dimension(s) and the array at index 1 has 3 dimension(s)"
     ]
    }
   ],
   "source": [
    "np.concatenate([array2,array3])"
   ]
  },
  {
   "cell_type": "code",
   "execution_count": 57,
   "id": "03b40f82-0d77-4356-bab7-55e05bf83328",
   "metadata": {},
   "outputs": [
    {
     "data": {
      "text/plain": [
       "array([[[ 1,  2,  3],\n",
       "        [ 4,  5,  6],\n",
       "        [ 7,  8,  9]],\n",
       "\n",
       "       [[10, 11, 12],\n",
       "        [13, 14, 15],\n",
       "        [16, 17, 18]]])"
      ]
     },
     "execution_count": 57,
     "metadata": {},
     "output_type": "execute_result"
    }
   ],
   "source": [
    "array3"
   ]
  },
  {
   "cell_type": "code",
   "execution_count": 58,
   "id": "054f39f2-f80a-4652-8866-a2c64f21bc1a",
   "metadata": {},
   "outputs": [
    {
     "data": {
      "text/plain": [
       "array([ 1,  2,  3,  4,  5,  6,  7,  8,  9, 10, 11, 12, 13, 14, 15, 16, 17,\n",
       "       18])"
      ]
     },
     "execution_count": 58,
     "metadata": {},
     "output_type": "execute_result"
    }
   ],
   "source": [
    "#function returns a copy of the array collapsed into one dimension.\n",
    "flatarr=array3.flatten()\n",
    "flatarr"
   ]
  },
  {
   "cell_type": "code",
   "execution_count": 59,
   "id": "39674469-1e39-4598-a50e-1a88f9354326",
   "metadata": {},
   "outputs": [
    {
     "data": {
      "text/plain": [
       "array([[1, 2],\n",
       "       [3, 4]])"
      ]
     },
     "execution_count": 59,
     "metadata": {},
     "output_type": "execute_result"
    }
   ],
   "source": [
    "np.reshape(flatarr[:4],(2,2))"
   ]
  },
  {
   "cell_type": "code",
   "execution_count": 60,
   "id": "eca4dcc4-022c-448d-b99b-244bbd16a182",
   "metadata": {},
   "outputs": [
    {
     "data": {
      "text/plain": [
       "array([[1., 0.],\n",
       "       [0., 1.]])"
      ]
     },
     "execution_count": 60,
     "metadata": {},
     "output_type": "execute_result"
    }
   ],
   "source": [
    "#create an identity matrix\n",
    "#used to create a 2D array with ones on the diagonal and zeros elsewhere\n",
    "np.eye(2)"
   ]
  },
  {
   "cell_type": "code",
   "execution_count": 61,
   "id": "6408812f-a68c-4d45-b66e-ce1a2bd214af",
   "metadata": {},
   "outputs": [
    {
     "data": {
      "text/plain": [
       "array([[1., 0., 0.],\n",
       "       [0., 1., 0.],\n",
       "       [0., 0., 1.]])"
      ]
     },
     "execution_count": 61,
     "metadata": {},
     "output_type": "execute_result"
    }
   ],
   "source": [
    "np.eye(3)"
   ]
  },
  {
   "cell_type": "code",
   "execution_count": 62,
   "id": "d7e5131f-862b-457f-9d7f-7fe1f8a9eea1",
   "metadata": {},
   "outputs": [
    {
     "data": {
      "text/plain": [
       "array([[1., 0., 0., 0.],\n",
       "       [0., 1., 0., 0.],\n",
       "       [0., 0., 1., 0.],\n",
       "       [0., 0., 0., 1.]])"
      ]
     },
     "execution_count": 62,
     "metadata": {},
     "output_type": "execute_result"
    }
   ],
   "source": [
    "np.eye(4)"
   ]
  },
  {
   "cell_type": "code",
   "execution_count": 63,
   "id": "cc261998-a97c-4a65-ba37-77a9d7a7cc8d",
   "metadata": {},
   "outputs": [
    {
     "data": {
      "text/html": [
       "<div>\n",
       "<style scoped>\n",
       "    .dataframe tbody tr th:only-of-type {\n",
       "        vertical-align: middle;\n",
       "    }\n",
       "\n",
       "    .dataframe tbody tr th {\n",
       "        vertical-align: top;\n",
       "    }\n",
       "\n",
       "    .dataframe thead th {\n",
       "        text-align: right;\n",
       "    }\n",
       "</style>\n",
       "<table border=\"1\" class=\"dataframe\">\n",
       "  <thead>\n",
       "    <tr style=\"text-align: right;\">\n",
       "      <th></th>\n",
       "      <th>0</th>\n",
       "      <th>1</th>\n",
       "      <th>2</th>\n",
       "    </tr>\n",
       "  </thead>\n",
       "  <tbody>\n",
       "    <tr>\n",
       "      <th>0</th>\n",
       "      <td>1.0</td>\n",
       "      <td>2.0</td>\n",
       "      <td>3.3</td>\n",
       "    </tr>\n",
       "    <tr>\n",
       "      <th>1</th>\n",
       "      <td>4.0</td>\n",
       "      <td>5.0</td>\n",
       "      <td>6.5</td>\n",
       "    </tr>\n",
       "  </tbody>\n",
       "</table>\n",
       "</div>"
      ],
      "text/plain": [
       "     0    1    2\n",
       "0  1.0  2.0  3.3\n",
       "1  4.0  5.0  6.5"
      ]
     },
     "execution_count": 63,
     "metadata": {},
     "output_type": "execute_result"
    }
   ],
   "source": [
    "#create a dataframe from numpy array\n",
    "import pandas as pd\n",
    "df=pd.DataFrame(array2)\n",
    "df"
   ]
  },
  {
   "cell_type": "code",
   "execution_count": 64,
   "id": "931653b6-4292-4753-8321-32aefa5ab0b3",
   "metadata": {},
   "outputs": [
    {
     "name": "stdout",
     "output_type": "stream",
     "text": [
      "Number of array dimensions.\n",
      "\n",
      "Examples\n",
      "--------\n",
      ">>> x = np.array([1, 2, 3])\n",
      ">>> x.ndim\n",
      "1\n",
      ">>> y = np.zeros((2, 3, 4))\n",
      ">>> y.ndim\n",
      "3\n"
     ]
    }
   ],
   "source": [
    "np.info(np.ndarray.ndim)"
   ]
  },
  {
   "cell_type": "code",
   "execution_count": null,
   "id": "4e4bc0a3-3dee-4c78-93da-1ccabf0f1a18",
   "metadata": {},
   "outputs": [],
   "source": [
    "np.info(np.ndarray)"
   ]
  },
  {
   "cell_type": "code",
   "execution_count": null,
   "id": "90b2935f-5caa-4742-9a62-126407e07156",
   "metadata": {},
   "outputs": [],
   "source": []
  }
 ],
 "metadata": {
  "kernelspec": {
   "display_name": "Python 3 (ipykernel)",
   "language": "python",
   "name": "python3"
  },
  "language_info": {
   "codemirror_mode": {
    "name": "ipython",
    "version": 3
   },
   "file_extension": ".py",
   "mimetype": "text/x-python",
   "name": "python",
   "nbconvert_exporter": "python",
   "pygments_lexer": "ipython3",
   "version": "3.11.7"
  }
 },
 "nbformat": 4,
 "nbformat_minor": 5
}
