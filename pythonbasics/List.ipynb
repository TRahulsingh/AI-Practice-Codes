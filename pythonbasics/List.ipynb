{
 "cells": [
  {
   "cell_type": "markdown",
   "id": "65bd71fd-ad1f-45cc-8137-4502756a841a",
   "metadata": {},
   "source": [
    "**list can store the data of any type. Lists are ordered and mutable(can be changed), which means you can change their contents (add, remove, or modify elements) after they are created.\n",
    "Python lists are defined using square brackets [] and can contain items separated by commas.**"
   ]
  },
  {
   "cell_type": "code",
   "execution_count": null,
   "id": "8dd913bb-4a8b-46a0-848c-2792c7f8f65b",
   "metadata": {},
   "outputs": [],
   "source": [
    "#mutable- can bechanged\n",
    "#immutable -- cant be changed"
   ]
  },
  {
   "cell_type": "code",
   "execution_count": 1,
   "id": "fb9520e1-9c0c-408a-bcc6-c6bd9bf003e6",
   "metadata": {},
   "outputs": [],
   "source": [
    "marks=[23,24,22,21]"
   ]
  },
  {
   "cell_type": "code",
   "execution_count": 2,
   "id": "bfe5b8dc-87ea-4039-a637-c6313b2b9d92",
   "metadata": {},
   "outputs": [
    {
     "name": "stdout",
     "output_type": "stream",
     "text": [
      "<class 'list'>\n"
     ]
    }
   ],
   "source": [
    "print(type(marks))"
   ]
  },
  {
   "cell_type": "code",
   "execution_count": 3,
   "id": "944785bd-51ad-48b3-a997-cb224c777c4b",
   "metadata": {},
   "outputs": [
    {
     "data": {
      "text/plain": [
       "24"
      ]
     },
     "execution_count": 3,
     "metadata": {},
     "output_type": "execute_result"
    }
   ],
   "source": [
    "marks[1]"
   ]
  },
  {
   "cell_type": "code",
   "execution_count": 4,
   "id": "8bf4f192-785a-4a3d-85b6-acef1416e4c1",
   "metadata": {},
   "outputs": [
    {
     "data": {
      "text/plain": [
       "23"
      ]
     },
     "execution_count": 4,
     "metadata": {},
     "output_type": "execute_result"
    }
   ],
   "source": [
    "marks[0]"
   ]
  },
  {
   "cell_type": "code",
   "execution_count": 5,
   "id": "91922da1-0a6d-4844-a57d-a5ef10cdea17",
   "metadata": {},
   "outputs": [
    {
     "name": "stdout",
     "output_type": "stream",
     "text": [
      "23\n",
      "24\n",
      "22\n",
      "21\n"
     ]
    }
   ],
   "source": [
    "for i in range(len(marks)):\n",
    "    print(marks[i])"
   ]
  },
  {
   "cell_type": "code",
   "execution_count": 6,
   "id": "bc322851-8eab-49cd-bd73-48a6c7d22473",
   "metadata": {},
   "outputs": [
    {
     "ename": "IndexError",
     "evalue": "list assignment index out of range",
     "output_type": "error",
     "traceback": [
      "\u001b[1;31m---------------------------------------------------------------------------\u001b[0m",
      "\u001b[1;31mIndexError\u001b[0m                                Traceback (most recent call last)",
      "Cell \u001b[1;32mIn[6], line 1\u001b[0m\n\u001b[1;32m----> 1\u001b[0m marks[\u001b[38;5;241m5\u001b[39m]\u001b[38;5;241m=\u001b[39m\u001b[38;5;241m24\u001b[39m\n",
      "\u001b[1;31mIndexError\u001b[0m: list assignment index out of range"
     ]
    }
   ],
   "source": [
    "marks[5]=24"
   ]
  },
  {
   "cell_type": "code",
   "execution_count": 8,
   "id": "0b5d2252-3ef6-4721-942c-0d841cdffdb2",
   "metadata": {},
   "outputs": [],
   "source": [
    "marks[3]=20"
   ]
  },
  {
   "cell_type": "code",
   "execution_count": 9,
   "id": "486885ec-5047-42e5-94dd-56a793a0d47b",
   "metadata": {},
   "outputs": [
    {
     "data": {
      "text/plain": [
       "[23, 24, 22, 20]"
      ]
     },
     "execution_count": 9,
     "metadata": {},
     "output_type": "execute_result"
    }
   ],
   "source": [
    "marks"
   ]
  },
  {
   "cell_type": "code",
   "execution_count": 10,
   "id": "b4ac86be-0458-4e93-a4aa-cbda14a6cf0a",
   "metadata": {},
   "outputs": [],
   "source": [
    "marks[2]='AB'"
   ]
  },
  {
   "cell_type": "code",
   "execution_count": 11,
   "id": "293d1119-3022-4bbf-8b74-c702e1923370",
   "metadata": {},
   "outputs": [
    {
     "data": {
      "text/plain": [
       "[23, 24, 'AB', 20]"
      ]
     },
     "execution_count": 11,
     "metadata": {},
     "output_type": "execute_result"
    }
   ],
   "source": [
    "marks"
   ]
  },
  {
   "cell_type": "markdown",
   "id": "8b81d867-258c-49ee-becf-b8e77493734f",
   "metadata": {},
   "source": [
    "**In Python you can use list slicing to extract a section of a list by specifying a range of indices. The basic format, for list slicing is as follows;\n",
    "new_list = my_list[start:stop:step]\n",
    "start; This indicates the index at which the slicing begins (inclusive). If not provided it will start from the beginning of the list. stop; This indicates the index at which the slicing ends (exclusive). If not provided it will go until the end of the list. step; This specifies how much to increment or step through during slicing. If not provided it defaults to 1.\n",
    "This way you can easily extract subsets of data from a list using Pythons list slicing feature.**"
   ]
  },
  {
   "cell_type": "code",
   "execution_count": 13,
   "id": "bd554c6f-482b-443e-a5ef-f00b2341f645",
   "metadata": {},
   "outputs": [
    {
     "name": "stdout",
     "output_type": "stream",
     "text": [
      "[23, 24, 'AB', 20]\n",
      "[24, 'AB']\n"
     ]
    }
   ],
   "source": [
    "#Slicing\n",
    "print(marks)\n",
    "print(marks[1:3])"
   ]
  },
  {
   "cell_type": "code",
   "execution_count": 16,
   "id": "ce6abcf4-88d9-458b-8daf-1a4535b149f0",
   "metadata": {},
   "outputs": [
    {
     "name": "stdout",
     "output_type": "stream",
     "text": [
      "[24, 'AB']\n"
     ]
    }
   ],
   "source": [
    "print(marks[-3:-1])"
   ]
  },
  {
   "cell_type": "code",
   "execution_count": 17,
   "id": "18aacd9c-aa73-403d-bf35-0f62aa974705",
   "metadata": {},
   "outputs": [
    {
     "name": "stdout",
     "output_type": "stream",
     "text": [
      "<class 'list'>\n"
     ]
    }
   ],
   "source": [
    "print(type(marks))"
   ]
  },
  {
   "cell_type": "code",
   "execution_count": 18,
   "id": "83bebe54-6884-4ff1-8271-e280524279ee",
   "metadata": {},
   "outputs": [],
   "source": [
    "subjects=[\"AI\",\"SE\",\"IRS\",\"DIP\"]"
   ]
  },
  {
   "cell_type": "markdown",
   "id": "8d4ecdd5-ce0f-4df6-ab9c-48f558710407",
   "metadata": {},
   "source": [
    "**append() adds the list at the end of first list**"
   ]
  },
  {
   "cell_type": "code",
   "execution_count": 19,
   "id": "4959c835-5deb-4919-8d8f-dbb75ba80b84",
   "metadata": {},
   "outputs": [],
   "source": [
    "subjects.append(marks)"
   ]
  },
  {
   "cell_type": "code",
   "execution_count": 20,
   "id": "5a8303e7-4384-4c52-9880-3f8d0d7d5d34",
   "metadata": {},
   "outputs": [
    {
     "data": {
      "text/plain": [
       "['AI', 'SE', 'IRS', 'DIP', [23, 24, 'AB', 20]]"
      ]
     },
     "execution_count": 20,
     "metadata": {},
     "output_type": "execute_result"
    }
   ],
   "source": [
    "subjects"
   ]
  },
  {
   "cell_type": "markdown",
   "id": "7284937b-8bc5-44ff-b68c-fc188b0f5939",
   "metadata": {},
   "source": [
    "**index() displays the index of the given element in the list**"
   ]
  },
  {
   "cell_type": "code",
   "execution_count": 21,
   "id": "6f0a949b-a278-4868-8b15-28ff71294597",
   "metadata": {},
   "outputs": [
    {
     "name": "stdout",
     "output_type": "stream",
     "text": [
      "[23, 24, 'AB', 20]\n"
     ]
    }
   ],
   "source": [
    "print(subjects[4])"
   ]
  },
  {
   "cell_type": "markdown",
   "id": "8254bc46-58e0-41c9-b91f-6dbce7c239b9",
   "metadata": {},
   "source": [
    "**pop() removes the lasst element that has been added to the list**"
   ]
  },
  {
   "cell_type": "code",
   "execution_count": 22,
   "id": "ad8685be-bfad-4431-a884-7a0ad5e54472",
   "metadata": {},
   "outputs": [
    {
     "name": "stdout",
     "output_type": "stream",
     "text": [
      "[23, 24, 'AB', 20]\n"
     ]
    }
   ],
   "source": [
    "print(subjects.pop())"
   ]
  },
  {
   "cell_type": "code",
   "execution_count": 23,
   "id": "57b692e7-9aa7-45bf-a0ae-da86b0535a6d",
   "metadata": {},
   "outputs": [
    {
     "data": {
      "text/plain": [
       "['AI', 'SE', 'IRS', 'DIP']"
      ]
     },
     "execution_count": 23,
     "metadata": {},
     "output_type": "execute_result"
    }
   ],
   "source": [
    "subjects"
   ]
  },
  {
   "cell_type": "markdown",
   "id": "0ef1cc4d-a7bd-4e08-8b8b-49c403419ff7",
   "metadata": {},
   "source": [
    "**count() counts the number of occurrence of the given element**"
   ]
  },
  {
   "cell_type": "code",
   "execution_count": 24,
   "id": "272a964b-1887-4943-80f8-1bb0c39dc043",
   "metadata": {},
   "outputs": [
    {
     "name": "stdout",
     "output_type": "stream",
     "text": [
      "1\n"
     ]
    }
   ],
   "source": [
    "print(subjects.count('SE'))"
   ]
  },
  {
   "cell_type": "code",
   "execution_count": null,
   "id": "afa0715a-d1f3-44f2-b9c1-01deaafae80d",
   "metadata": {},
   "outputs": [],
   "source": []
  }
 ],
 "metadata": {
  "kernelspec": {
   "display_name": "Python 3 (ipykernel)",
   "language": "python",
   "name": "python3"
  },
  "language_info": {
   "codemirror_mode": {
    "name": "ipython",
    "version": 3
   },
   "file_extension": ".py",
   "mimetype": "text/x-python",
   "name": "python",
   "nbconvert_exporter": "python",
   "pygments_lexer": "ipython3",
   "version": "3.11.7"
  }
 },
 "nbformat": 4,
 "nbformat_minor": 5
}
