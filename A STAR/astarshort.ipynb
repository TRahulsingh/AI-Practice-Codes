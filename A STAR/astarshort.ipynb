{
  "nbformat": 4,
  "nbformat_minor": 0,
  "metadata": {
    "colab": {
      "provenance": [],
      "authorship_tag": "ABX9TyMoRe3NaPGLb/rSbFnVW84p",
      "include_colab_link": true
    },
    "kernelspec": {
      "name": "python3",
      "display_name": "Python 3"
    },
    "language_info": {
      "name": "python"
    }
  },
  "cells": [
    {
      "cell_type": "markdown",
      "metadata": {
        "id": "view-in-github",
        "colab_type": "text"
      },
      "source": [
        "<a href=\"https://colab.research.google.com/github/mssanamateen/Artificial-Intelligence-Lab/blob/main/astarshort.ipynb\" target=\"_parent\"><img src=\"https://colab.research.google.com/assets/colab-badge.svg\" alt=\"Open In Colab\"/></a>"
      ]
    },
    {
      "cell_type": "markdown",
      "source": [
        "![image.png](data:image/png;base64,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)"
      ],
      "metadata": {
        "id": "HYPiVa8Xmwtn"
      }
    },
    {
      "cell_type": "code",
      "execution_count": null,
      "metadata": {
        "id": "3h0nfd7Xmvs0"
      },
      "outputs": [],
      "source": [
        "graph=[['A','B',1,3],\n",
        "       ['A','C',2,4],\n",
        "       ['A','H',7,0],\n",
        "       ['B','D',4,2],\n",
        "       ['B','E',6,6],\n",
        "       ['C','F',3,3],\n",
        "       ['C','G',2,1],\n",
        "       ['D','E',7,6],\n",
        "       ['D','H',5,0],\n",
        "       ['F','H',1,0],\n",
        "       ['G','H',2, 0]]"
      ]
    },
    {
      "cell_type": "code",
      "source": [
        "temp = []\n",
        "temp1 = []\n",
        "for i in graph:\n",
        "    temp.append(i[0])\n",
        "    temp1.append(i[1])"
      ],
      "metadata": {
        "id": "nn5JRN7zyclS"
      },
      "execution_count": null,
      "outputs": []
    },
    {
      "cell_type": "code",
      "source": [
        "print(temp)"
      ],
      "metadata": {
        "colab": {
          "base_uri": "https://localhost:8080/"
        },
        "id": "k8qj68eXy0Jp",
        "outputId": "bbbc59d5-d6ea-42d7-d510-531d6af242af"
      },
      "execution_count": null,
      "outputs": [
        {
          "output_type": "stream",
          "name": "stdout",
          "text": [
            "['A', 'A', 'A', 'B', 'B', 'C', 'C', 'D', 'D', 'F', 'G']\n"
          ]
        }
      ]
    },
    {
      "cell_type": "code",
      "source": [
        "print(temp1)"
      ],
      "metadata": {
        "colab": {
          "base_uri": "https://localhost:8080/"
        },
        "id": "g6KdKfccy2Bv",
        "outputId": "a96b4d79-5d23-4535-86ad-dbac6e40bc5e"
      },
      "execution_count": null,
      "outputs": [
        {
          "output_type": "stream",
          "name": "stdout",
          "text": [
            "['B', 'C', 'H', 'D', 'E', 'F', 'G', 'E', 'H', 'H', 'H']\n"
          ]
        }
      ]
    },
    {
      "cell_type": "code",
      "source": [
        "nodes = set(temp).union(set(temp1))"
      ],
      "metadata": {
        "id": "2sVIA1TzykPp"
      },
      "execution_count": null,
      "outputs": []
    },
    {
      "cell_type": "code",
      "source": [
        "nodes"
      ],
      "metadata": {
        "colab": {
          "base_uri": "https://localhost:8080/"
        },
        "id": "NUqvm5R0y4xx",
        "outputId": "15606c7d-ce7c-4671-ce67-dde4a25b10bb"
      },
      "execution_count": null,
      "outputs": [
        {
          "output_type": "execute_result",
          "data": {
            "text/plain": [
              "{'A', 'B', 'C', 'D', 'E', 'F', 'G', 'H'}"
            ]
          },
          "metadata": {},
          "execution_count": 6
        }
      ]
    },
    {
      "cell_type": "code",
      "source": [
        "def A_star(graph, costs, open, closed, cur_node):\n",
        "    if cur_node in open:\n",
        "        open.remove(cur_node)\n",
        "    closed.add(cur_node)\n",
        "    for i in graph:\n",
        "        print(costs)\n",
        "        if(i[0] == cur_node and costs[i[0]]+i[2]+i[3] < costs[i[1]]):\n",
        "            open.add(i[1])\n",
        "            costs[i[1]] =  costs[i[0]]+i[2]+i[3]\n",
        "            path[i[1]] = path[i[0]] + ' -> ' + i[1]\n",
        "    costs[cur_node] = 999999\n",
        "    small = min(costs, key=costs.get)\n",
        "    if small not in closed:\n",
        "        A_star(graph, costs, open,closed, small)\n",
        "costs = dict()\n",
        "temp_cost = dict()\n",
        "path = dict()\n",
        "for i in nodes:\n",
        "    costs[i] = 999999\n",
        "    path[i] = ' '"
      ],
      "metadata": {
        "id": "Pl_Mt2dyyk5G"
      },
      "execution_count": null,
      "outputs": []
    },
    {
      "cell_type": "code",
      "source": [
        "open = set()\n",
        "closed = set()\n",
        "start_node = input(\"Enter the Start Node: \")\n",
        "open.add(start_node)"
      ],
      "metadata": {
        "colab": {
          "base_uri": "https://localhost:8080/"
        },
        "id": "bD1cG1jsyrEI",
        "outputId": "c006756e-1825-4422-d287-5fa099e3bdb5"
      },
      "execution_count": null,
      "outputs": [
        {
          "name": "stdout",
          "output_type": "stream",
          "text": [
            "Enter the Start Node: A\n"
          ]
        }
      ]
    },
    {
      "cell_type": "code",
      "source": [
        "path[start_node] = start_node\n",
        "costs[start_node] = 0"
      ],
      "metadata": {
        "id": "BeINKsKtyux4"
      },
      "execution_count": null,
      "outputs": []
    },
    {
      "cell_type": "code",
      "source": [
        "A_star(graph, costs, open, closed, start_node)\n",
        "goal_node = input(\"Enter the Goal Node: \")\n",
        "print(\"Path with least cost is: \",path[goal_node])"
      ],
      "metadata": {
        "colab": {
          "base_uri": "https://localhost:8080/"
        },
        "id": "kJpcpIeIywpw",
        "outputId": "3ad6ad2f-cc0e-47e9-db1b-6fb7c3c71111"
      },
      "execution_count": null,
      "outputs": [
        {
          "output_type": "stream",
          "name": "stdout",
          "text": [
            "{'A': 0, 'D': 999999, 'B': 999999, 'C': 999999, 'F': 999999, 'H': 999999, 'G': 999999, 'E': 999999}\n",
            "{'A': 0, 'D': 999999, 'B': 4, 'C': 999999, 'F': 999999, 'H': 999999, 'G': 999999, 'E': 999999}\n",
            "{'A': 0, 'D': 999999, 'B': 4, 'C': 6, 'F': 999999, 'H': 999999, 'G': 999999, 'E': 999999}\n",
            "{'A': 0, 'D': 999999, 'B': 4, 'C': 6, 'F': 999999, 'H': 7, 'G': 999999, 'E': 999999}\n",
            "{'A': 0, 'D': 999999, 'B': 4, 'C': 6, 'F': 999999, 'H': 7, 'G': 999999, 'E': 999999}\n",
            "{'A': 0, 'D': 999999, 'B': 4, 'C': 6, 'F': 999999, 'H': 7, 'G': 999999, 'E': 999999}\n",
            "{'A': 0, 'D': 999999, 'B': 4, 'C': 6, 'F': 999999, 'H': 7, 'G': 999999, 'E': 999999}\n",
            "{'A': 0, 'D': 999999, 'B': 4, 'C': 6, 'F': 999999, 'H': 7, 'G': 999999, 'E': 999999}\n",
            "{'A': 0, 'D': 999999, 'B': 4, 'C': 6, 'F': 999999, 'H': 7, 'G': 999999, 'E': 999999}\n",
            "{'A': 0, 'D': 999999, 'B': 4, 'C': 6, 'F': 999999, 'H': 7, 'G': 999999, 'E': 999999}\n",
            "{'A': 0, 'D': 999999, 'B': 4, 'C': 6, 'F': 999999, 'H': 7, 'G': 999999, 'E': 999999}\n",
            "{'A': 999999, 'D': 999999, 'B': 4, 'C': 6, 'F': 999999, 'H': 7, 'G': 999999, 'E': 999999}\n",
            "{'A': 999999, 'D': 999999, 'B': 4, 'C': 6, 'F': 999999, 'H': 7, 'G': 999999, 'E': 999999}\n",
            "{'A': 999999, 'D': 999999, 'B': 4, 'C': 6, 'F': 999999, 'H': 7, 'G': 999999, 'E': 999999}\n",
            "{'A': 999999, 'D': 999999, 'B': 4, 'C': 6, 'F': 999999, 'H': 7, 'G': 999999, 'E': 999999}\n",
            "{'A': 999999, 'D': 10, 'B': 4, 'C': 6, 'F': 999999, 'H': 7, 'G': 999999, 'E': 999999}\n",
            "{'A': 999999, 'D': 10, 'B': 4, 'C': 6, 'F': 999999, 'H': 7, 'G': 999999, 'E': 16}\n",
            "{'A': 999999, 'D': 10, 'B': 4, 'C': 6, 'F': 999999, 'H': 7, 'G': 999999, 'E': 16}\n",
            "{'A': 999999, 'D': 10, 'B': 4, 'C': 6, 'F': 999999, 'H': 7, 'G': 999999, 'E': 16}\n",
            "{'A': 999999, 'D': 10, 'B': 4, 'C': 6, 'F': 999999, 'H': 7, 'G': 999999, 'E': 16}\n",
            "{'A': 999999, 'D': 10, 'B': 4, 'C': 6, 'F': 999999, 'H': 7, 'G': 999999, 'E': 16}\n",
            "{'A': 999999, 'D': 10, 'B': 4, 'C': 6, 'F': 999999, 'H': 7, 'G': 999999, 'E': 16}\n",
            "{'A': 999999, 'D': 10, 'B': 999999, 'C': 6, 'F': 999999, 'H': 7, 'G': 999999, 'E': 16}\n",
            "{'A': 999999, 'D': 10, 'B': 999999, 'C': 6, 'F': 999999, 'H': 7, 'G': 999999, 'E': 16}\n",
            "{'A': 999999, 'D': 10, 'B': 999999, 'C': 6, 'F': 999999, 'H': 7, 'G': 999999, 'E': 16}\n",
            "{'A': 999999, 'D': 10, 'B': 999999, 'C': 6, 'F': 999999, 'H': 7, 'G': 999999, 'E': 16}\n",
            "{'A': 999999, 'D': 10, 'B': 999999, 'C': 6, 'F': 999999, 'H': 7, 'G': 999999, 'E': 16}\n",
            "{'A': 999999, 'D': 10, 'B': 999999, 'C': 6, 'F': 999999, 'H': 7, 'G': 999999, 'E': 16}\n",
            "{'A': 999999, 'D': 10, 'B': 999999, 'C': 6, 'F': 12, 'H': 7, 'G': 999999, 'E': 16}\n",
            "{'A': 999999, 'D': 10, 'B': 999999, 'C': 6, 'F': 12, 'H': 7, 'G': 9, 'E': 16}\n",
            "{'A': 999999, 'D': 10, 'B': 999999, 'C': 6, 'F': 12, 'H': 7, 'G': 9, 'E': 16}\n",
            "{'A': 999999, 'D': 10, 'B': 999999, 'C': 6, 'F': 12, 'H': 7, 'G': 9, 'E': 16}\n",
            "{'A': 999999, 'D': 10, 'B': 999999, 'C': 6, 'F': 12, 'H': 7, 'G': 9, 'E': 16}\n",
            "{'A': 999999, 'D': 10, 'B': 999999, 'C': 999999, 'F': 12, 'H': 7, 'G': 9, 'E': 16}\n",
            "{'A': 999999, 'D': 10, 'B': 999999, 'C': 999999, 'F': 12, 'H': 7, 'G': 9, 'E': 16}\n",
            "{'A': 999999, 'D': 10, 'B': 999999, 'C': 999999, 'F': 12, 'H': 7, 'G': 9, 'E': 16}\n",
            "{'A': 999999, 'D': 10, 'B': 999999, 'C': 999999, 'F': 12, 'H': 7, 'G': 9, 'E': 16}\n",
            "{'A': 999999, 'D': 10, 'B': 999999, 'C': 999999, 'F': 12, 'H': 7, 'G': 9, 'E': 16}\n",
            "{'A': 999999, 'D': 10, 'B': 999999, 'C': 999999, 'F': 12, 'H': 7, 'G': 9, 'E': 16}\n",
            "{'A': 999999, 'D': 10, 'B': 999999, 'C': 999999, 'F': 12, 'H': 7, 'G': 9, 'E': 16}\n",
            "{'A': 999999, 'D': 10, 'B': 999999, 'C': 999999, 'F': 12, 'H': 7, 'G': 9, 'E': 16}\n",
            "{'A': 999999, 'D': 10, 'B': 999999, 'C': 999999, 'F': 12, 'H': 7, 'G': 9, 'E': 16}\n",
            "{'A': 999999, 'D': 10, 'B': 999999, 'C': 999999, 'F': 12, 'H': 7, 'G': 9, 'E': 16}\n",
            "{'A': 999999, 'D': 10, 'B': 999999, 'C': 999999, 'F': 12, 'H': 7, 'G': 9, 'E': 16}\n",
            "{'A': 999999, 'D': 10, 'B': 999999, 'C': 999999, 'F': 12, 'H': 999999, 'G': 9, 'E': 16}\n",
            "{'A': 999999, 'D': 10, 'B': 999999, 'C': 999999, 'F': 12, 'H': 999999, 'G': 9, 'E': 16}\n",
            "{'A': 999999, 'D': 10, 'B': 999999, 'C': 999999, 'F': 12, 'H': 999999, 'G': 9, 'E': 16}\n",
            "{'A': 999999, 'D': 10, 'B': 999999, 'C': 999999, 'F': 12, 'H': 999999, 'G': 9, 'E': 16}\n",
            "{'A': 999999, 'D': 10, 'B': 999999, 'C': 999999, 'F': 12, 'H': 999999, 'G': 9, 'E': 16}\n",
            "{'A': 999999, 'D': 10, 'B': 999999, 'C': 999999, 'F': 12, 'H': 999999, 'G': 9, 'E': 16}\n",
            "{'A': 999999, 'D': 10, 'B': 999999, 'C': 999999, 'F': 12, 'H': 999999, 'G': 9, 'E': 16}\n",
            "{'A': 999999, 'D': 10, 'B': 999999, 'C': 999999, 'F': 12, 'H': 999999, 'G': 9, 'E': 16}\n",
            "{'A': 999999, 'D': 10, 'B': 999999, 'C': 999999, 'F': 12, 'H': 999999, 'G': 9, 'E': 16}\n",
            "{'A': 999999, 'D': 10, 'B': 999999, 'C': 999999, 'F': 12, 'H': 999999, 'G': 9, 'E': 16}\n",
            "{'A': 999999, 'D': 10, 'B': 999999, 'C': 999999, 'F': 12, 'H': 999999, 'G': 9, 'E': 16}\n",
            "{'A': 999999, 'D': 10, 'B': 999999, 'C': 999999, 'F': 12, 'H': 11, 'G': 999999, 'E': 16}\n",
            "{'A': 999999, 'D': 10, 'B': 999999, 'C': 999999, 'F': 12, 'H': 11, 'G': 999999, 'E': 16}\n",
            "{'A': 999999, 'D': 10, 'B': 999999, 'C': 999999, 'F': 12, 'H': 11, 'G': 999999, 'E': 16}\n",
            "{'A': 999999, 'D': 10, 'B': 999999, 'C': 999999, 'F': 12, 'H': 11, 'G': 999999, 'E': 16}\n",
            "{'A': 999999, 'D': 10, 'B': 999999, 'C': 999999, 'F': 12, 'H': 11, 'G': 999999, 'E': 16}\n",
            "{'A': 999999, 'D': 10, 'B': 999999, 'C': 999999, 'F': 12, 'H': 11, 'G': 999999, 'E': 16}\n",
            "{'A': 999999, 'D': 10, 'B': 999999, 'C': 999999, 'F': 12, 'H': 11, 'G': 999999, 'E': 16}\n",
            "{'A': 999999, 'D': 10, 'B': 999999, 'C': 999999, 'F': 12, 'H': 11, 'G': 999999, 'E': 16}\n",
            "{'A': 999999, 'D': 10, 'B': 999999, 'C': 999999, 'F': 12, 'H': 11, 'G': 999999, 'E': 16}\n",
            "{'A': 999999, 'D': 10, 'B': 999999, 'C': 999999, 'F': 12, 'H': 11, 'G': 999999, 'E': 16}\n",
            "{'A': 999999, 'D': 10, 'B': 999999, 'C': 999999, 'F': 12, 'H': 11, 'G': 999999, 'E': 16}\n",
            "Enter the Goal Node: H\n",
            "Path with least cost is:  A -> C -> G -> H\n"
          ]
        }
      ]
    }
  ]
}